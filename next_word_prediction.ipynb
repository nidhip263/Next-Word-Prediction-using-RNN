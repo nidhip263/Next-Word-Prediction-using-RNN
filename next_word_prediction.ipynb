{
 "cells": [
  {
   "cell_type": "code",
   "execution_count": null,
   "metadata": {
    "id": "KrYLGngPGBok"
   },
   "outputs": [],
   "source": [
    "# import necessary libraries\n",
    "import numpy as np\n",
    "import tensorflow as tf"
   ]
  },
  {
   "cell_type": "code",
   "execution_count": 2,
   "metadata": {
    "id": "b5tqgqU6In2G"
   },
   "outputs": [],
   "source": [
    "##Training Phase"
   ]
  },
  {
   "cell_type": "code",
   "execution_count": 3,
   "metadata": {
    "id": "x66hsOOzI6jm"
   },
   "outputs": [],
   "source": [
    "# load dataset\n",
    "with open(\"/content/sriLanka.txt\", 'r', encoding='utf-8') as file:\n",
    "    sriLanka = file.read()"
   ]
  },
  {
   "cell_type": "code",
   "execution_count": 4,
   "metadata": {
    "colab": {
     "base_uri": "https://localhost:8080/",
     "height": 174
    },
    "id": "ikGz7k6FJ_wR",
    "outputId": "9700af74-6924-4da5-c372-bd8b4fc02258"
   },
   "outputs": [
    {
     "data": {
      "application/vnd.google.colaboratory.intrinsic+json": {
       "type": "string"
      },
      "text/plain": [
       "'Sri Lanka, often referred to as the \"Pearl of the Indian Ocean,\" is a captivating island nation with a rich tapestry of history, culture, and natural beauty. Situated off the southeastern coast of India, this island boasts diverse landscapes that range from pristine beaches and lush rainforests to rolling tea plantations and rugged mountain ranges. The island’s natural beauty and strategic location have made it a significant player in the region for centuries.\\n\\nThe geography of Sri Lanka is marked by its impressive variety. The central highlands, home to the country\\'s highest peak, Pidurutalagala, offer a cool climate and picturesque views. These highlands are also the heart of Sri Lanka\\'s tea industry, with expansive plantations producing some of the world’s finest tea. In contrast, the coastal areas are renowned for their stunning beaches and vibrant marine life, making them popular destinations for tourists and locals alike.\\n\\nThe climate in Sri Lanka is tropical and maritime, characterized by two distinct monsoon seasons. The southwest monsoon brings rain to the western and southern regions from May to September, while the northeast monsoon affects the eastern and northern areas from December to February. This climatic variation contributes to the country’s rich biodiversity, supporting a wide range of flora and fauna, including many endemic species.\\n\\nSri Lanka\\'s history spans over 2,500 years, with a cultural heritage that includes influences from Buddhism, Hinduism, Christianity, and Islam. The island’s historical significance is evident in its numerous ancient cities, temples, and monuments. Anuradhapura, one of the ancient capitals, is renowned for its well-preserved ruins of an ancient Sri Lankan civilization. This city was the center of Theravada Buddhism for many centuries and is still a major pilgrimage site for Buddhists around the world. The ancient city of Polonnaruwa showcases the grandeur of medieval Sri Lankan architecture and art, with its well-preserved palaces, temples, and statues. The rock fortress of Sigiriya, often referred to as the \"Eighth Wonder of the World,\" is a remarkable feat of engineering and artistry. Built by King Kasyapa in the 5th century, Sigiriya is famous for its stunning frescoes, landscaped gardens, and the impressive lion\\'s gate.\\n\\nSri Lanka\\'s cultural diversity is also reflected in its festivals, music, dance, and cuisine. The island’s festivals are colorful and vibrant, often featuring elaborate processions, traditional dances, and music. The annual Kandy Esala Perahera is one of the most spectacular events in Sri Lanka, honoring the Sacred Tooth Relic of the Buddha. This grand procession, which takes place in the city of Kandy, features beautifully decorated elephants, traditional dancers, drummers, and fire performers, drawing thousands of visitors from around the world.\\n\\nThe cuisine of Sri Lanka is a reflection of its cultural diversity and rich history. Influenced by South Indian, Portuguese, Dutch, and British cuisines, Sri Lankan food is known for its bold flavors and aromatic spices. Rice and curry is the staple dish, typically served with a variety of vegetable, fish, or meat curries, and accompanied by side dishes such as sambols, pickles, and chutneys. Seafood plays a significant role in the coastal regions, with dishes like ambul thiyal (sour fish curry) and prawn curry being particularly popular.\\n\\nEconomically, Sri Lanka is diverse and rapidly developing. The country’s key sectors include agriculture, manufacturing, and services. Sri Lanka is famous for its production of tea, rubber, and coconut, with Ceylon tea being one of its most renowned exports. The agricultural sector also includes spices, fruits, and vegetables, which contribute significantly to the economy. The manufacturing sector is diversified, with textiles and garments being major exports. Sri Lanka’s apparel industry is known for its high quality and ethical production practices. In recent years, the country has also made strides in the technology and service sectors, with a growing emphasis on information technology and business process outsourcing.\\n\\nTourism is another vital component of Sri Lanka’s economy. The island’s natural beauty, historical sites, and vibrant culture attract millions of tourists annually. The beaches of the southern and eastern coasts are famous for their pristine beauty and water sports opportunities, while the central highlands offer scenic landscapes and trekking routes. Cultural tourism is also significant, with visitors flocking to the ancient cities, temples, and colonial-era landmarks. Efforts to promote sustainable tourism are ongoing, aiming to preserve the natural and cultural heritage while boosting economic growth.\\n\\nSri Lanka is recognized as one of the world\\'s biodiversity hotspots, with a remarkable variety of flora and fauna. The country’s national parks and wildlife reserves, such as Yala, Wilpattu, and Sinharaja Forest Reserve, are home to numerous endemic species and are crucial for conservation efforts. Yala National Park, located in the southeast, is one of the best places in the world to see leopards in the wild. Wilpattu National Park, located in the northwest, is known for its large number of natural lakes and diverse wildlife, including elephants, leopards, and sloth bears. The Sinharaja Forest Reserve, a UNESCO World Heritage Site, is a biodiversity hotspot with a high degree of endemism among its plants and animals.\\n\\nMarine ecosystems are equally diverse, with coral reefs, mangroves, and seagrass beds supporting a wide range of marine life. The waters around Sri Lanka are home to various species of whales and dolphins, making it a popular destination for whale watching. Efforts to protect these ecosystems include the establishment of marine protected areas and initiatives to combat illegal fishing practices.\\n\\nDespite its many strengths, Sri Lanka faces several challenges. Political instability, ethnic tensions, and economic disparities remain significant issues. The country has experienced periods of civil conflict, most notably the Sri Lankan Civil War, which lasted for nearly three decades until 2009. This conflict had a profound impact on the country’s social and economic fabric. Post-war reconciliation and rebuilding efforts continue to be crucial for long-term peace and development. Efforts are being made to address the grievances of the affected communities and promote unity and harmony among the diverse ethnic groups.\\n\\nEconomic challenges include managing debt, ensuring sustainable growth, and addressing poverty and unemployment. The COVID-19 pandemic has also had a significant impact on the economy, particularly on the tourism sector. However, Sri Lanka\\'s strategic location, natural resources, and human capital present significant opportunities for growth and development. Investments in infrastructure, education, and technology are key to unlocking the country’s full potential. The government is focusing on improving connectivity, both within the country and with the rest of the world, to boost trade and tourism.\\n\\nSri Lanka is a country of immense beauty, rich history, and cultural diversity. Its journey through the ages has been marked by achievements and challenges, making it a fascinating subject of study and exploration. As Sri Lanka continues to navigate its path towards development and prosperity, it remains a jewel in the Indian Ocean, offering a unique blend of tradition and modernity. The resilience and adaptability of its people, coupled with the country’s natural and cultural wealth, provide a strong foundation for a bright future.'"
      ]
     },
     "execution_count": 4,
     "metadata": {},
     "output_type": "execute_result"
    }
   ],
   "source": [
    "sriLanka\n"
   ]
  },
  {
   "cell_type": "code",
   "execution_count": 5,
   "metadata": {
    "id": "YSgB6fr9KCrv"
   },
   "outputs": [],
   "source": [
    "tokenizer = tf.keras.preprocessing.text.Tokenizer()\n",
    "tokenizer.fit_on_texts([sriLanka])"
   ]
  },
  {
   "cell_type": "code",
   "execution_count": 8,
   "metadata": {
    "colab": {
     "base_uri": "https://localhost:8080/"
    },
    "id": "paz-_tH2KhQO",
    "outputId": "e537a639-976d-4223-b74e-394246718217"
   },
   "outputs": [
    {
     "data": {
      "text/plain": [
       "{'num_words': None,\n",
       " 'filters': '!\"#$%&()*+,-./:;<=>?@[\\\\]^_`{|}~\\t\\n',\n",
       " 'lower': True,\n",
       " 'split': ' ',\n",
       " 'char_level': False,\n",
       " 'oov_token': None,\n",
       " 'document_count': 1,\n",
       " 'word_counts': '{\"sri\": 22, \"lanka\": 12, \"often\": 3, \"referred\": 2, \"to\": 22, \"as\": 6, \"the\": 78, \"pearl\": 1, \"of\": 42, \"indian\": 3, \"ocean\": 2, \"is\": 25, \"a\": 26, \"captivating\": 1, \"island\": 2, \"nation\": 1, \"with\": 15, \"rich\": 4, \"tapestry\": 1, \"history\": 4, \"culture\": 2, \"and\": 73, \"natural\": 7, \"beauty\": 5, \"situated\": 1, \"off\": 1, \"southeastern\": 1, \"coast\": 1, \"india\": 1, \"this\": 5, \"boasts\": 1, \"diverse\": 5, \"landscapes\": 2, \"that\": 2, \"range\": 3, \"from\": 5, \"pristine\": 2, \"beaches\": 3, \"lush\": 1, \"rainforests\": 1, \"rolling\": 1, \"tea\": 5, \"plantations\": 2, \"rugged\": 1, \"mountain\": 1, \"ranges\": 1, \"island\\\\u2019s\": 4, \"strategic\": 2, \"location\": 2, \"have\": 1, \"made\": 3, \"it\": 4, \"significant\": 6, \"player\": 1, \"in\": 17, \"region\": 1, \"for\": 18, \"centuries\": 2, \"geography\": 1, \"marked\": 2, \"by\": 6, \"its\": 17, \"impressive\": 2, \"variety\": 3, \"central\": 2, \"highlands\": 3, \"home\": 3, \"country\\'s\": 1, \"highest\": 1, \"peak\": 1, \"pidurutalagala\": 1, \"offer\": 2, \"cool\": 1, \"climate\": 2, \"picturesque\": 1, \"views\": 1, \"these\": 2, \"are\": 11, \"also\": 6, \"heart\": 1, \"lanka\\'s\": 4, \"industry\": 2, \"expansive\": 1, \"producing\": 1, \"some\": 1, \"world\\\\u2019s\": 1, \"finest\": 1, \"contrast\": 1, \"coastal\": 2, \"areas\": 3, \"renowned\": 3, \"their\": 2, \"stunning\": 2, \"vibrant\": 3, \"marine\": 4, \"life\": 2, \"making\": 3, \"them\": 1, \"popular\": 3, \"destinations\": 1, \"tourists\": 2, \"locals\": 1, \"alike\": 1, \"tropical\": 1, \"maritime\": 1, \"characterized\": 1, \"two\": 1, \"distinct\": 1, \"monsoon\": 3, \"seasons\": 1, \"southwest\": 1, \"brings\": 1, \"rain\": 1, \"western\": 1, \"southern\": 2, \"regions\": 2, \"may\": 1, \"september\": 1, \"while\": 3, \"northeast\": 1, \"affects\": 1, \"eastern\": 2, \"northern\": 1, \"december\": 1, \"february\": 1, \"climatic\": 1, \"variation\": 1, \"contributes\": 1, \"country\\\\u2019s\": 6, \"biodiversity\": 3, \"supporting\": 2, \"wide\": 2, \"flora\": 2, \"fauna\": 2, \"including\": 2, \"many\": 3, \"endemic\": 2, \"species\": 3, \"spans\": 1, \"over\": 1, \"2\": 1, \"500\": 1, \"years\": 2, \"cultural\": 7, \"heritage\": 3, \"includes\": 2, \"influences\": 1, \"buddhism\": 2, \"hinduism\": 1, \"christianity\": 1, \"islam\": 1, \"historical\": 2, \"significance\": 1, \"evident\": 1, \"numerous\": 2, \"ancient\": 5, \"cities\": 2, \"temples\": 3, \"monuments\": 1, \"anuradhapura\": 1, \"one\": 5, \"capitals\": 1, \"well\": 2, \"preserved\": 2, \"ruins\": 1, \"an\": 1, \"lankan\": 4, \"civilization\": 1, \"city\": 3, \"was\": 1, \"center\": 1, \"theravada\": 1, \"still\": 1, \"major\": 2, \"pilgrimage\": 1, \"site\": 2, \"buddhists\": 1, \"around\": 3, \"world\": 6, \"polonnaruwa\": 1, \"showcases\": 1, \"grandeur\": 1, \"medieval\": 1, \"architecture\": 1, \"art\": 1, \"palaces\": 1, \"statues\": 1, \"rock\": 1, \"fortress\": 1, \"sigiriya\": 2, \"eighth\": 1, \"wonder\": 1, \"remarkable\": 2, \"feat\": 1, \"engineering\": 1, \"artistry\": 1, \"built\": 1, \"king\": 1, \"kasyapa\": 1, \"5th\": 1, \"century\": 1, \"famous\": 3, \"frescoes\": 1, \"landscaped\": 1, \"gardens\": 1, \"lion\\'s\": 1, \"gate\": 1, \"diversity\": 3, \"reflected\": 1, \"festivals\": 2, \"music\": 2, \"dance\": 1, \"cuisine\": 2, \"colorful\": 1, \"featuring\": 1, \"elaborate\": 1, \"processions\": 1, \"traditional\": 2, \"dances\": 1, \"annual\": 1, \"kandy\": 2, \"esala\": 1, \"perahera\": 1, \"most\": 3, \"spectacular\": 1, \"events\": 1, \"honoring\": 1, \"sacred\": 1, \"tooth\": 1, \"relic\": 1, \"buddha\": 1, \"grand\": 1, \"procession\": 1, \"which\": 3, \"takes\": 1, \"place\": 1, \"features\": 1, \"beautifully\": 1, \"decorated\": 1, \"elephants\": 2, \"dancers\": 1, \"drummers\": 1, \"fire\": 1, \"performers\": 1, \"drawing\": 1, \"thousands\": 1, \"visitors\": 2, \"reflection\": 1, \"influenced\": 1, \"south\": 1, \"portuguese\": 1, \"dutch\": 1, \"british\": 1, \"cuisines\": 1, \"food\": 1, \"known\": 3, \"bold\": 1, \"flavors\": 1, \"aromatic\": 1, \"spices\": 2, \"rice\": 1, \"curry\": 3, \"staple\": 1, \"dish\": 1, \"typically\": 1, \"served\": 1, \"vegetable\": 1, \"fish\": 2, \"or\": 1, \"meat\": 1, \"curries\": 1, \"accompanied\": 1, \"side\": 1, \"dishes\": 2, \"such\": 2, \"sambols\": 1, \"pickles\": 1, \"chutneys\": 1, \"seafood\": 1, \"plays\": 1, \"role\": 1, \"like\": 1, \"ambul\": 1, \"thiyal\": 1, \"sour\": 1, \"prawn\": 1, \"being\": 4, \"particularly\": 2, \"economically\": 1, \"rapidly\": 1, \"developing\": 1, \"key\": 2, \"sectors\": 2, \"include\": 3, \"agriculture\": 1, \"manufacturing\": 2, \"services\": 1, \"production\": 2, \"rubber\": 1, \"coconut\": 1, \"ceylon\": 1, \"exports\": 2, \"agricultural\": 1, \"sector\": 3, \"fruits\": 1, \"vegetables\": 1, \"contribute\": 1, \"significantly\": 1, \"economy\": 3, \"diversified\": 1, \"textiles\": 1, \"garments\": 1, \"lanka\\\\u2019s\": 2, \"apparel\": 1, \"high\": 2, \"quality\": 1, \"ethical\": 1, \"practices\": 2, \"recent\": 1, \"country\": 4, \"has\": 4, \"strides\": 1, \"technology\": 3, \"service\": 1, \"growing\": 1, \"emphasis\": 1, \"on\": 5, \"information\": 1, \"business\": 1, \"process\": 1, \"outsourcing\": 1, \"tourism\": 5, \"another\": 1, \"vital\": 1, \"component\": 1, \"sites\": 1, \"attract\": 1, \"millions\": 1, \"annually\": 1, \"coasts\": 1, \"water\": 1, \"sports\": 1, \"opportunities\": 2, \"scenic\": 1, \"trekking\": 1, \"routes\": 1, \"flocking\": 1, \"colonial\": 1, \"era\": 1, \"landmarks\": 1, \"efforts\": 5, \"promote\": 2, \"sustainable\": 2, \"ongoing\": 1, \"aiming\": 1, \"preserve\": 1, \"boosting\": 1, \"economic\": 4, \"growth\": 3, \"recognized\": 1, \"world\\'s\": 1, \"hotspots\": 1, \"national\": 3, \"parks\": 1, \"wildlife\": 2, \"reserves\": 1, \"yala\": 2, \"wilpattu\": 2, \"sinharaja\": 2, \"forest\": 2, \"reserve\": 2, \"crucial\": 2, \"conservation\": 1, \"park\": 2, \"located\": 2, \"southeast\": 1, \"best\": 1, \"places\": 1, \"see\": 1, \"leopards\": 2, \"wild\": 1, \"northwest\": 1, \"large\": 1, \"number\": 1, \"lakes\": 1, \"sloth\": 1, \"bears\": 1, \"unesco\": 1, \"hotspot\": 1, \"degree\": 1, \"endemism\": 1, \"among\": 2, \"plants\": 1, \"animals\": 1, \"ecosystems\": 2, \"equally\": 1, \"coral\": 1, \"reefs\": 1, \"mangroves\": 1, \"seagrass\": 1, \"beds\": 1, \"waters\": 1, \"various\": 1, \"whales\": 1, \"dolphins\": 1, \"destination\": 1, \"whale\": 1, \"watching\": 1, \"protect\": 1, \"establishment\": 1, \"protected\": 1, \"initiatives\": 1, \"combat\": 1, \"illegal\": 1, \"fishing\": 1, \"despite\": 1, \"strengths\": 1, \"faces\": 1, \"several\": 1, \"challenges\": 3, \"political\": 1, \"instability\": 1, \"ethnic\": 2, \"tensions\": 1, \"disparities\": 1, \"remain\": 1, \"issues\": 1, \"experienced\": 1, \"periods\": 1, \"civil\": 2, \"conflict\": 2, \"notably\": 1, \"war\": 2, \"lasted\": 1, \"nearly\": 1, \"three\": 1, \"decades\": 1, \"until\": 1, \"2009\": 1, \"had\": 2, \"profound\": 1, \"impact\": 2, \"social\": 1, \"fabric\": 1, \"post\": 1, \"reconciliation\": 1, \"rebuilding\": 1, \"continue\": 1, \"be\": 1, \"long\": 1, \"term\": 1, \"peace\": 1, \"development\": 3, \"address\": 1, \"grievances\": 1, \"affected\": 1, \"communities\": 1, \"unity\": 1, \"harmony\": 1, \"groups\": 1, \"managing\": 1, \"debt\": 1, \"ensuring\": 1, \"addressing\": 1, \"poverty\": 1, \"unemployment\": 1, \"covid\": 1, \"19\": 1, \"pandemic\": 1, \"however\": 1, \"resources\": 1, \"human\": 1, \"capital\": 1, \"present\": 1, \"investments\": 1, \"infrastructure\": 1, \"education\": 1, \"unlocking\": 1, \"full\": 1, \"potential\": 1, \"government\": 1, \"focusing\": 1, \"improving\": 1, \"connectivity\": 1, \"both\": 1, \"within\": 1, \"rest\": 1, \"boost\": 1, \"trade\": 1, \"immense\": 1, \"journey\": 1, \"through\": 1, \"ages\": 1, \"been\": 1, \"achievements\": 1, \"fascinating\": 1, \"subject\": 1, \"study\": 1, \"exploration\": 1, \"continues\": 1, \"navigate\": 1, \"path\": 1, \"towards\": 1, \"prosperity\": 1, \"remains\": 1, \"jewel\": 1, \"offering\": 1, \"unique\": 1, \"blend\": 1, \"tradition\": 1, \"modernity\": 1, \"resilience\": 1, \"adaptability\": 1, \"people\": 1, \"coupled\": 1, \"wealth\": 1, \"provide\": 1, \"strong\": 1, \"foundation\": 1, \"bright\": 1, \"future\": 1}',\n",
       " 'word_docs': '{\"christianity\": 1, \"unemployment\": 1, \"2009\": 1, \"off\": 1, \"aiming\": 1, \"political\": 1, \"esala\": 1, \"industry\": 1, \"polonnaruwa\": 1, \"impressive\": 1, \"rice\": 1, \"includes\": 1, \"flocking\": 1, \"both\": 1, \"was\": 1, \"ruins\": 1, \"tooth\": 1, \"fish\": 1, \"places\": 1, \"dishes\": 1, \"despite\": 1, \"connectivity\": 1, \"ranges\": 1, \"debt\": 1, \"water\": 1, \"among\": 1, \"species\": 1, \"elephants\": 1, \"process\": 1, \"seagrass\": 1, \"location\": 1, \"three\": 1, \"well\": 1, \"conservation\": 1, \"kandy\": 1, \"region\": 1, \"navigate\": 1, \"apparel\": 1, \"efforts\": 1, \"marine\": 1, \"range\": 1, \"parks\": 1, \"capital\": 1, \"address\": 1, \"world\\\\u2019s\": 1, \"notably\": 1, \"accompanied\": 1, \"eighth\": 1, \"lush\": 1, \"central\": 1, \"continues\": 1, \"promote\": 1, \"path\": 1, \"music\": 1, \"pearl\": 1, \"reefs\": 1, \"that\": 1, \"addressing\": 1, \"ethical\": 1, \"decorated\": 1, \"expansive\": 1, \"lanka\\\\u2019s\": 1, \"human\": 1, \"continue\": 1, \"spectacular\": 1, \"dolphins\": 1, \"september\": 1, \"drawing\": 1, \"historical\": 1, \"unlocking\": 1, \"pilgrimage\": 1, \"yala\": 1, \"tensions\": 1, \"with\": 1, \"such\": 1, \"development\": 1, \"cultural\": 1, \"reconciliation\": 1, \"cuisine\": 1, \"see\": 1, \"rainforests\": 1, \"within\": 1, \"be\": 1, \"national\": 1, \"number\": 1, \"plants\": 1, \"dances\": 1, \"wild\": 1, \"rebuilding\": 1, \"resilience\": 1, \"outsourcing\": 1, \"strengths\": 1, \"or\": 1, \"annual\": 1, \"engineering\": 1, \"beautifully\": 1, \"millions\": 1, \"fruits\": 1, \"whales\": 1, \"contributes\": 1, \"recognized\": 1, \"colonial\": 1, \"staple\": 1, \"buddhism\": 1, \"may\": 1, \"wealth\": 1, \"until\": 1, \"theravada\": 1, \"19\": 1, \"evident\": 1, \"diversity\": 1, \"featuring\": 1, \"disparities\": 1, \"trade\": 1, \"sloth\": 1, \"beds\": 1, \"equally\": 1, \"making\": 1, \"opportunities\": 1, \"annually\": 1, \"artistry\": 1, \"various\": 1, \"vibrant\": 1, \"some\": 1, \"feat\": 1, \"offer\": 1, \"sites\": 1, \"northwest\": 1, \"locals\": 1, \"meat\": 1, \"centuries\": 1, \"views\": 1, \"spices\": 1, \"coasts\": 1, \"cuisines\": 1, \"trekking\": 1, \"rubber\": 1, \"kasyapa\": 1, \"as\": 1, \"southwest\": 1, \"statues\": 1, \"these\": 1, \"rock\": 1, \"pidurutalagala\": 1, \"art\": 1, \"marked\": 1, \"life\": 1, \"landmarks\": 1, \"sacred\": 1, \"festivals\": 1, \"people\": 1, \"boosting\": 1, \"major\": 1, \"reserve\": 1, \"economic\": 1, \"eastern\": 1, \"which\": 1, \"rapidly\": 1, \"term\": 1, \"destination\": 1, \"business\": 1, \"waters\": 1, \"cities\": 1, \"impact\": 1, \"subject\": 1, \"adaptability\": 1, \"beaches\": 1, \"gate\": 1, \"challenges\": 1, \"poverty\": 1, \"hotspots\": 1, \"processions\": 1, \"situated\": 1, \"beauty\": 1, \"influences\": 1, \"boasts\": 1, \"government\": 1, \"northern\": 1, \"textiles\": 1, \"lakes\": 1, \"place\": 1, \"supporting\": 1, \"decades\": 1, \"emphasis\": 1, \"instability\": 1, \"popular\": 1, \"service\": 1, \"leopards\": 1, \"faces\": 1, \"garments\": 1, \"jewel\": 1, \"attract\": 1, \"influenced\": 1, \"takes\": 1, \"conflict\": 1, \"fortress\": 1, \"british\": 1, \"landscapes\": 1, \"diverse\": 1, \"technology\": 1, \"practices\": 1, \"city\": 1, \"strides\": 1, \"frescoes\": 1, \"visitors\": 1, \"bold\": 1, \"regions\": 1, \"an\": 1, \"era\": 1, \"manufacturing\": 1, \"significantly\": 1, \"flora\": 1, \"seasons\": 1, \"dancers\": 1, \"northeast\": 1, \"portuguese\": 1, \"coconut\": 1, \"medieval\": 1, \"lasted\": 1, \"from\": 1, \"lankan\": 1, \"and\": 1, \"variety\": 1, \"lion\\'s\": 1, \"tourism\": 1, \"another\": 1, \"coupled\": 1, \"civil\": 1, \"sour\": 1, \"nearly\": 1, \"years\": 1, \"significance\": 1, \"initiatives\": 1, \"wilpattu\": 1, \"coast\": 1, \"landscaped\": 1, \"sambols\": 1, \"recent\": 1, \"is\": 1, \"managing\": 1, \"captivating\": 1, \"journey\": 1, \"history\": 1, \"wonder\": 1, \"rugged\": 1, \"long\": 1, \"endemic\": 1, \"blend\": 1, \"southeastern\": 1, \"harmony\": 1, \"fauna\": 1, \"5th\": 1, \"king\": 1, \"high\": 1, \"vegetable\": 1, \"information\": 1, \"relic\": 1, \"dish\": 1, \"vegetables\": 1, \"are\": 1, \"a\": 1, \"2\": 1, \"best\": 1, \"potential\": 1, \"rolling\": 1, \"numerous\": 1, \"sri\": 1, \"protect\": 1, \"country\\\\u2019s\": 1, \"achievements\": 1, \"to\": 1, \"plantations\": 1, \"known\": 1, \"sectors\": 1, \"park\": 1, \"fabric\": 1, \"for\": 1, \"study\": 1, \"site\": 1, \"while\": 1, \"ecosystems\": 1, \"most\": 1, \"ocean\": 1, \"this\": 1, \"also\": 1, \"immense\": 1, \"towards\": 1, \"contribute\": 1, \"developing\": 1, \"illegal\": 1, \"being\": 1, \"endemism\": 1, \"provide\": 1, \"two\": 1, \"climate\": 1, \"buddha\": 1, \"has\": 1, \"have\": 1, \"thousands\": 1, \"capitals\": 1, \"investments\": 1, \"production\": 1, \"geography\": 1, \"famous\": 1, \"agriculture\": 1, \"preserved\": 1, \"services\": 1, \"tropical\": 1, \"fishing\": 1, \"focusing\": 1, \"monuments\": 1, \"food\": 1, \"dance\": 1, \"offering\": 1, \"traditional\": 1, \"boost\": 1, \"full\": 1, \"fire\": 1, \"honoring\": 1, \"plays\": 1, \"southeast\": 1, \"colorful\": 1, \"strategic\": 1, \"palaces\": 1, \"showcases\": 1, \"been\": 1, \"island\\\\u2019s\": 1, \"alike\": 1, \"strong\": 1, \"profound\": 1, \"variation\": 1, \"peak\": 1, \"prawn\": 1, \"affected\": 1, \"rest\": 1, \"center\": 1, \"crucial\": 1, \"their\": 1, \"remains\": 1, \"wildlife\": 1, \"mangroves\": 1, \"peace\": 1, \"player\": 1, \"coastal\": 1, \"economically\": 1, \"hinduism\": 1, \"seafood\": 1, \"highest\": 1, \"natural\": 1, \"curry\": 1, \"exploration\": 1, \"in\": 1, \"heart\": 1, \"rich\": 1, \"reserves\": 1, \"animals\": 1, \"coral\": 1, \"war\": 1, \"grandeur\": 1, \"preserve\": 1, \"future\": 1, \"distinct\": 1, \"on\": 1, \"flavors\": 1, \"over\": 1, \"watching\": 1, \"degree\": 1, \"grand\": 1, \"periods\": 1, \"mountain\": 1, \"performers\": 1, \"by\": 1, \"pickles\": 1, \"experienced\": 1, \"island\": 1, \"thiyal\": 1, \"producing\": 1, \"cool\": 1, \"around\": 1, \"made\": 1, \"climatic\": 1, \"pandemic\": 1, \"spans\": 1, \"sustainable\": 1, \"picturesque\": 1, \"rain\": 1, \"south\": 1, \"growing\": 1, \"social\": 1, \"component\": 1, \"ancient\": 1, \"architecture\": 1, \"monsoon\": 1, \"of\": 1, \"its\": 1, \"ethnic\": 1, \"biodiversity\": 1, \"wide\": 1, \"affects\": 1, \"remarkable\": 1, \"elaborate\": 1, \"culture\": 1, \"sigiriya\": 1, \"tea\": 1, \"unity\": 1, \"referred\": 1, \"served\": 1, \"sports\": 1, \"unesco\": 1, \"one\": 1, \"quality\": 1, \"ages\": 1, \"country\": 1, \"tradition\": 1, \"buddhists\": 1, \"including\": 1, \"dutch\": 1, \"through\": 1, \"maritime\": 1, \"routes\": 1, \"growth\": 1, \"post\": 1, \"agricultural\": 1, \"ongoing\": 1, \"home\": 1, \"fascinating\": 1, \"combat\": 1, \"economy\": 1, \"the\": 1, \"many\": 1, \"large\": 1, \"contrast\": 1, \"finest\": 1, \"resources\": 1, \"reflection\": 1, \"remain\": 1, \"like\": 1, \"aromatic\": 1, \"ceylon\": 1, \"issues\": 1, \"grievances\": 1, \"foundation\": 1, \"tourists\": 1, \"characterized\": 1, \"western\": 1, \"vital\": 1, \"scenic\": 1, \"renowned\": 1, \"december\": 1, \"infrastructure\": 1, \"built\": 1, \"it\": 1, \"prosperity\": 1, \"brings\": 1, \"islam\": 1, \"sinharaja\": 1, \"pristine\": 1, \"diversified\": 1, \"southern\": 1, \"country\\'s\": 1, \"establishment\": 1, \"sector\": 1, \"still\": 1, \"india\": 1, \"often\": 1, \"destinations\": 1, \"century\": 1, \"forest\": 1, \"role\": 1, \"drummers\": 1, \"hotspot\": 1, \"modernity\": 1, \"areas\": 1, \"whale\": 1, \"nation\": 1, \"side\": 1, \"typically\": 1, \"exports\": 1, \"ensuring\": 1, \"stunning\": 1, \"significant\": 1, \"ambul\": 1, \"particularly\": 1, \"include\": 1, \"civilization\": 1, \"procession\": 1, \"500\": 1, \"heritage\": 1, \"improving\": 1, \"world\\'s\": 1, \"features\": 1, \"present\": 1, \"reflected\": 1, \"bears\": 1, \"lanka\": 1, \"however\": 1, \"gardens\": 1, \"groups\": 1, \"perahera\": 1, \"tapestry\": 1, \"world\": 1, \"located\": 1, \"protected\": 1, \"temples\": 1, \"february\": 1, \"bright\": 1, \"chutneys\": 1, \"several\": 1, \"events\": 1, \"key\": 1, \"indian\": 1, \"covid\": 1, \"highlands\": 1, \"lanka\\'s\": 1, \"education\": 1, \"anuradhapura\": 1, \"them\": 1, \"unique\": 1, \"had\": 1, \"communities\": 1, \"curries\": 1}',\n",
       " 'index_docs': '{\"228\": 1, \"466\": 1, \"442\": 1, \"169\": 1, \"378\": 1, \"428\": 1, \"277\": 1, \"96\": 1, \"244\": 1, \"91\": 1, \"310\": 1, \"112\": 1, \"373\": 1, \"485\": 1, \"238\": 1, \"235\": 1, \"283\": 1, \"131\": 1, \"389\": 1, \"132\": 1, \"424\": 1, \"484\": 1, \"179\": 1, \"462\": 1, \"368\": 1, \"156\": 1, \"60\": 1, \"128\": 1, \"358\": 1, \"408\": 1, \"88\": 1, \"439\": 1, \"117\": 1, \"386\": 1, \"127\": 1, \"182\": 1, \"501\": 1, \"348\": 1, \"31\": 1, \"37\": 1, \"45\": 1, \"384\": 1, \"473\": 1, \"454\": 1, \"195\": 1, \"436\": 1, \"319\": 1, \"254\": 1, \"174\": 1, \"92\": 1, \"500\": 1, \"144\": 1, \"502\": 1, \"124\": 1, \"164\": 1, \"406\": 1, \"84\": 1, \"464\": 1, \"350\": 1, \"292\": 1, \"192\": 1, \"140\": 1, \"472\": 1, \"449\": 1, \"279\": 1, \"413\": 1, \"213\": 1, \"297\": 1, \"114\": 1, \"478\": 1, \"242\": 1, \"147\": 1, \"430\": 1, \"11\": 1, \"133\": 1, \"78\": 1, \"15\": 1, \"447\": 1, \"125\": 1, \"390\": 1, \"175\": 1, \"486\": 1, \"450\": 1, \"76\": 1, \"394\": 1, \"402\": 1, \"275\": 1, \"391\": 1, \"448\": 1, \"512\": 1, \"359\": 1, \"425\": 1, \"316\": 1, \"276\": 1, \"257\": 1, \"291\": 1, \"365\": 1, \"341\": 1, \"412\": 1, \"221\": 1, \"381\": 1, \"374\": 1, \"311\": 1, \"113\": 1, \"212\": 1, \"516\": 1, \"441\": 1, \"240\": 1, \"468\": 1, \"231\": 1, \"66\": 1, \"272\": 1, \"431\": 1, \"489\": 1, \"396\": 1, \"409\": 1, \"404\": 1, \"54\": 1, \"143\": 1, \"366\": 1, \"258\": 1, \"411\": 1, \"53\": 1, \"194\": 1, \"256\": 1, \"93\": 1, \"363\": 1, \"392\": 1, \"200\": 1, \"317\": 1, \"89\": 1, \"190\": 1, \"130\": 1, \"367\": 1, \"305\": 1, \"371\": 1, \"337\": 1, \"261\": 1, \"16\": 1, \"208\": 1, \"251\": 1, \"95\": 1, \"252\": 1, \"187\": 1, \"249\": 1, \"90\": 1, \"100\": 1, \"376\": 1, \"282\": 1, \"123\": 1, \"514\": 1, \"380\": 1, \"119\": 1, \"151\": 1, \"42\": 1, \"104\": 1, \"68\": 1, \"333\": 1, \"452\": 1, \"414\": 1, \"357\": 1, \"410\": 1, \"116\": 1, \"163\": 1, \"497\": 1, \"513\": 1, \"46\": 1, \"268\": 1, \"77\": 1, \"465\": 1, \"383\": 1, \"274\": 1, \"168\": 1, \"22\": 1, \"226\": 1, \"173\": 1, \"481\": 1, \"216\": 1, \"346\": 1, \"395\": 1, \"289\": 1, \"105\": 1, \"440\": 1, \"355\": 1, \"429\": 1, \"55\": 1, \"353\": 1, \"155\": 1, \"426\": 1, \"347\": 1, \"506\": 1, \"364\": 1, \"300\": 1, \"288\": 1, \"160\": 1, \"253\": 1, \"304\": 1, \"83\": 1, \"24\": 1, \"74\": 1, \"142\": 1, \"63\": 1, \"352\": 1, \"264\": 1, \"129\": 1, \"307\": 1, \"103\": 1, \"236\": 1, \"375\": 1, \"137\": 1, \"344\": 1, \"107\": 1, \"207\": 1, \"293\": 1, \"214\": 1, \"302\": 1, \"338\": 1, \"247\": 1, \"437\": 1, \"25\": 1, \"38\": 1, \"2\": 1, \"48\": 1, \"267\": 1, \"30\": 1, \"360\": 1, \"515\": 1, \"159\": 1, \"330\": 1, \"438\": 1, \"111\": 1, \"230\": 1, \"420\": 1, \"148\": 1, \"171\": 1, \"265\": 1, \"321\": 1, \"351\": 1, \"5\": 1, \"461\": 1, \"165\": 1, \"491\": 1, \"33\": 1, \"255\": 1, \"177\": 1, \"451\": 1, \"110\": 1, \"509\": 1, \"170\": 1, \"459\": 1, \"108\": 1, \"262\": 1, \"260\": 1, \"141\": 1, \"315\": 1, \"356\": 1, \"284\": 1, \"312\": 1, \"342\": 1, \"13\": 1, \"4\": 1, \"224\": 1, \"388\": 1, \"480\": 1, \"176\": 1, \"115\": 1, \"6\": 1, \"417\": 1, \"20\": 1, \"495\": 1, \"7\": 1, \"86\": 1, \"69\": 1, \"136\": 1, \"153\": 1, \"445\": 1, \"8\": 1, \"498\": 1, \"120\": 1, \"57\": 1, \"157\": 1, \"67\": 1, \"80\": 1, \"23\": 1, \"19\": 1, \"490\": 1, \"503\": 1, \"343\": 1, \"334\": 1, \"422\": 1, \"39\": 1, \"401\": 1, \"517\": 1, \"205\": 1, \"94\": 1, \"285\": 1, \"41\": 1, \"180\": 1, \"298\": 1, \"234\": 1, \"475\": 1, \"138\": 1, \"183\": 1, \"65\": 1, \"335\": 1, \"118\": 1, \"336\": 1, \"202\": 1, \"423\": 1, \"482\": 1, \"232\": 1, \"306\": 1, \"270\": 1, \"507\": 1, \"126\": 1, \"488\": 1, \"479\": 1, \"295\": 1, \"281\": 1, \"325\": 1, \"387\": 1, \"271\": 1, \"87\": 1, \"250\": 1, \"245\": 1, \"494\": 1, \"34\": 1, \"201\": 1, \"518\": 1, \"443\": 1, \"220\": 1, \"186\": 1, \"331\": 1, \"456\": 1, \"487\": 1, \"239\": 1, \"152\": 1, \"98\": 1, \"505\": 1, \"146\": 1, \"407\": 1, \"453\": 1, \"181\": 1, \"97\": 1, \"332\": 1, \"227\": 1, \"324\": 1, \"185\": 1, \"14\": 1, \"70\": 1, \"499\": 1, \"9\": 1, \"191\": 1, \"32\": 1, \"385\": 1, \"403\": 1, \"405\": 1, \"161\": 1, \"246\": 1, \"379\": 1, \"521\": 1, \"206\": 1, \"29\": 1, \"308\": 1, \"223\": 1, \"416\": 1, \"400\": 1, \"286\": 1, \"435\": 1, \"178\": 1, \"296\": 1, \"18\": 1, \"322\": 1, \"434\": 1, \"81\": 1, \"329\": 1, \"193\": 1, \"188\": 1, \"64\": 1, \"47\": 1, \"219\": 1, \"469\": 1, \"222\": 1, \"145\": 1, \"189\": 1, \"210\": 1, \"301\": 1, \"354\": 1, \"444\": 1, \"362\": 1, \"27\": 1, \"248\": 1, \"56\": 1, \"3\": 1, \"10\": 1, \"158\": 1, \"58\": 1, \"106\": 1, \"215\": 1, \"122\": 1, \"273\": 1, \"82\": 1, \"121\": 1, \"26\": 1, \"458\": 1, \"79\": 1, \"314\": 1, \"369\": 1, \"398\": 1, \"28\": 1, \"349\": 1, \"493\": 1, \"40\": 1, \"510\": 1, \"243\": 1, \"109\": 1, \"303\": 1, \"492\": 1, \"203\": 1, \"372\": 1, \"75\": 1, \"446\": 1, \"340\": 1, \"377\": 1, \"50\": 1, \"496\": 1, \"421\": 1, \"73\": 1, \"1\": 1, \"59\": 1, \"393\": 1, \"197\": 1, \"196\": 1, \"471\": 1, \"299\": 1, \"432\": 1, \"327\": 1, \"309\": 1, \"339\": 1, \"433\": 1, \"455\": 1, \"519\": 1, \"101\": 1, \"204\": 1, \"211\": 1, \"361\": 1, \"370\": 1, \"52\": 1, \"217\": 1, \"476\": 1, \"259\": 1, \"35\": 1, \"504\": 1, \"209\": 1, \"229\": 1, \"149\": 1, \"85\": 1, \"345\": 1, \"102\": 1, \"184\": 1, \"418\": 1, \"72\": 1, \"241\": 1, \"172\": 1, \"43\": 1, \"199\": 1, \"263\": 1, \"150\": 1, \"326\": 1, \"294\": 1, \"399\": 1, \"511\": 1, \"51\": 1, \"415\": 1, \"166\": 1, \"320\": 1, \"313\": 1, \"139\": 1, \"463\": 1, \"99\": 1, \"17\": 1, \"328\": 1, \"134\": 1, \"71\": 1, \"237\": 1, \"287\": 1, \"225\": 1, \"61\": 1, \"483\": 1, \"382\": 1, \"290\": 1, \"474\": 1, \"269\": 1, \"397\": 1, \"12\": 1, \"470\": 1, \"266\": 1, \"460\": 1, \"278\": 1, \"167\": 1, \"21\": 1, \"154\": 1, \"419\": 1, \"62\": 1, \"218\": 1, \"520\": 1, \"323\": 1, \"427\": 1, \"280\": 1, \"135\": 1, \"44\": 1, \"467\": 1, \"49\": 1, \"36\": 1, \"477\": 1, \"233\": 1, \"198\": 1, \"508\": 1, \"162\": 1, \"457\": 1, \"318\": 1}',\n",
       " 'index_word': '{\"1\": \"the\", \"2\": \"and\", \"3\": \"of\", \"4\": \"a\", \"5\": \"is\", \"6\": \"sri\", \"7\": \"to\", \"8\": \"for\", \"9\": \"in\", \"10\": \"its\", \"11\": \"with\", \"12\": \"lanka\", \"13\": \"are\", \"14\": \"natural\", \"15\": \"cultural\", \"16\": \"as\", \"17\": \"significant\", \"18\": \"by\", \"19\": \"also\", \"20\": \"country\\\\u2019s\", \"21\": \"world\", \"22\": \"beauty\", \"23\": \"this\", \"24\": \"diverse\", \"25\": \"from\", \"26\": \"tea\", \"27\": \"ancient\", \"28\": \"one\", \"29\": \"on\", \"30\": \"tourism\", \"31\": \"efforts\", \"32\": \"rich\", \"33\": \"history\", \"34\": \"island\\\\u2019s\", \"35\": \"it\", \"36\": \"lanka\\'s\", \"37\": \"marine\", \"38\": \"lankan\", \"39\": \"being\", \"40\": \"country\", \"41\": \"has\", \"42\": \"economic\", \"43\": \"often\", \"44\": \"indian\", \"45\": \"range\", \"46\": \"beaches\", \"47\": \"made\", \"48\": \"variety\", \"49\": \"highlands\", \"50\": \"home\", \"51\": \"areas\", \"52\": \"renowned\", \"53\": \"vibrant\", \"54\": \"making\", \"55\": \"popular\", \"56\": \"monsoon\", \"57\": \"while\", \"58\": \"biodiversity\", \"59\": \"many\", \"60\": \"species\", \"61\": \"heritage\", \"62\": \"temples\", \"63\": \"city\", \"64\": \"around\", \"65\": \"famous\", \"66\": \"diversity\", \"67\": \"most\", \"68\": \"which\", \"69\": \"known\", \"70\": \"curry\", \"71\": \"include\", \"72\": \"sector\", \"73\": \"economy\", \"74\": \"technology\", \"75\": \"growth\", \"76\": \"national\", \"77\": \"challenges\", \"78\": \"development\", \"79\": \"referred\", \"80\": \"ocean\", \"81\": \"island\", \"82\": \"culture\", \"83\": \"landscapes\", \"84\": \"that\", \"85\": \"pristine\", \"86\": \"plantations\", \"87\": \"strategic\", \"88\": \"location\", \"89\": \"centuries\", \"90\": \"marked\", \"91\": \"impressive\", \"92\": \"central\", \"93\": \"offer\", \"94\": \"climate\", \"95\": \"these\", \"96\": \"industry\", \"97\": \"coastal\", \"98\": \"their\", \"99\": \"stunning\", \"100\": \"life\", \"101\": \"tourists\", \"102\": \"southern\", \"103\": \"regions\", \"104\": \"eastern\", \"105\": \"supporting\", \"106\": \"wide\", \"107\": \"flora\", \"108\": \"fauna\", \"109\": \"including\", \"110\": \"endemic\", \"111\": \"years\", \"112\": \"includes\", \"113\": \"buddhism\", \"114\": \"historical\", \"115\": \"numerous\", \"116\": \"cities\", \"117\": \"well\", \"118\": \"preserved\", \"119\": \"major\", \"120\": \"site\", \"121\": \"sigiriya\", \"122\": \"remarkable\", \"123\": \"festivals\", \"124\": \"music\", \"125\": \"cuisine\", \"126\": \"traditional\", \"127\": \"kandy\", \"128\": \"elephants\", \"129\": \"visitors\", \"130\": \"spices\", \"131\": \"fish\", \"132\": \"dishes\", \"133\": \"such\", \"134\": \"particularly\", \"135\": \"key\", \"136\": \"sectors\", \"137\": \"manufacturing\", \"138\": \"production\", \"139\": \"exports\", \"140\": \"lanka\\\\u2019s\", \"141\": \"high\", \"142\": \"practices\", \"143\": \"opportunities\", \"144\": \"promote\", \"145\": \"sustainable\", \"146\": \"wildlife\", \"147\": \"yala\", \"148\": \"wilpattu\", \"149\": \"sinharaja\", \"150\": \"forest\", \"151\": \"reserve\", \"152\": \"crucial\", \"153\": \"park\", \"154\": \"located\", \"155\": \"leopards\", \"156\": \"among\", \"157\": \"ecosystems\", \"158\": \"ethnic\", \"159\": \"civil\", \"160\": \"conflict\", \"161\": \"war\", \"162\": \"had\", \"163\": \"impact\", \"164\": \"pearl\", \"165\": \"captivating\", \"166\": \"nation\", \"167\": \"tapestry\", \"168\": \"situated\", \"169\": \"off\", \"170\": \"southeastern\", \"171\": \"coast\", \"172\": \"india\", \"173\": \"boasts\", \"174\": \"lush\", \"175\": \"rainforests\", \"176\": \"rolling\", \"177\": \"rugged\", \"178\": \"mountain\", \"179\": \"ranges\", \"180\": \"have\", \"181\": \"player\", \"182\": \"region\", \"183\": \"geography\", \"184\": \"country\\'s\", \"185\": \"highest\", \"186\": \"peak\", \"187\": \"pidurutalagala\", \"188\": \"cool\", \"189\": \"picturesque\", \"190\": \"views\", \"191\": \"heart\", \"192\": \"expansive\", \"193\": \"producing\", \"194\": \"some\", \"195\": \"world\\\\u2019s\", \"196\": \"finest\", \"197\": \"contrast\", \"198\": \"them\", \"199\": \"destinations\", \"200\": \"locals\", \"201\": \"alike\", \"202\": \"tropical\", \"203\": \"maritime\", \"204\": \"characterized\", \"205\": \"two\", \"206\": \"distinct\", \"207\": \"seasons\", \"208\": \"southwest\", \"209\": \"brings\", \"210\": \"rain\", \"211\": \"western\", \"212\": \"may\", \"213\": \"september\", \"214\": \"northeast\", \"215\": \"affects\", \"216\": \"northern\", \"217\": \"december\", \"218\": \"february\", \"219\": \"climatic\", \"220\": \"variation\", \"221\": \"contributes\", \"222\": \"spans\", \"223\": \"over\", \"224\": \"2\", \"225\": \"500\", \"226\": \"influences\", \"227\": \"hinduism\", \"228\": \"christianity\", \"229\": \"islam\", \"230\": \"significance\", \"231\": \"evident\", \"232\": \"monuments\", \"233\": \"anuradhapura\", \"234\": \"capitals\", \"235\": \"ruins\", \"236\": \"an\", \"237\": \"civilization\", \"238\": \"was\", \"239\": \"center\", \"240\": \"theravada\", \"241\": \"still\", \"242\": \"pilgrimage\", \"243\": \"buddhists\", \"244\": \"polonnaruwa\", \"245\": \"showcases\", \"246\": \"grandeur\", \"247\": \"medieval\", \"248\": \"architecture\", \"249\": \"art\", \"250\": \"palaces\", \"251\": \"statues\", \"252\": \"rock\", \"253\": \"fortress\", \"254\": \"eighth\", \"255\": \"wonder\", \"256\": \"feat\", \"257\": \"engineering\", \"258\": \"artistry\", \"259\": \"built\", \"260\": \"king\", \"261\": \"kasyapa\", \"262\": \"5th\", \"263\": \"century\", \"264\": \"frescoes\", \"265\": \"landscaped\", \"266\": \"gardens\", \"267\": \"lion\\'s\", \"268\": \"gate\", \"269\": \"reflected\", \"270\": \"dance\", \"271\": \"colorful\", \"272\": \"featuring\", \"273\": \"elaborate\", \"274\": \"processions\", \"275\": \"dances\", \"276\": \"annual\", \"277\": \"esala\", \"278\": \"perahera\", \"279\": \"spectacular\", \"280\": \"events\", \"281\": \"honoring\", \"282\": \"sacred\", \"283\": \"tooth\", \"284\": \"relic\", \"285\": \"buddha\", \"286\": \"grand\", \"287\": \"procession\", \"288\": \"takes\", \"289\": \"place\", \"290\": \"features\", \"291\": \"beautifully\", \"292\": \"decorated\", \"293\": \"dancers\", \"294\": \"drummers\", \"295\": \"fire\", \"296\": \"performers\", \"297\": \"drawing\", \"298\": \"thousands\", \"299\": \"reflection\", \"300\": \"influenced\", \"301\": \"south\", \"302\": \"portuguese\", \"303\": \"dutch\", \"304\": \"british\", \"305\": \"cuisines\", \"306\": \"food\", \"307\": \"bold\", \"308\": \"flavors\", \"309\": \"aromatic\", \"310\": \"rice\", \"311\": \"staple\", \"312\": \"dish\", \"313\": \"typically\", \"314\": \"served\", \"315\": \"vegetable\", \"316\": \"or\", \"317\": \"meat\", \"318\": \"curries\", \"319\": \"accompanied\", \"320\": \"side\", \"321\": \"sambols\", \"322\": \"pickles\", \"323\": \"chutneys\", \"324\": \"seafood\", \"325\": \"plays\", \"326\": \"role\", \"327\": \"like\", \"328\": \"ambul\", \"329\": \"thiyal\", \"330\": \"sour\", \"331\": \"prawn\", \"332\": \"economically\", \"333\": \"rapidly\", \"334\": \"developing\", \"335\": \"agriculture\", \"336\": \"services\", \"337\": \"rubber\", \"338\": \"coconut\", \"339\": \"ceylon\", \"340\": \"agricultural\", \"341\": \"fruits\", \"342\": \"vegetables\", \"343\": \"contribute\", \"344\": \"significantly\", \"345\": \"diversified\", \"346\": \"textiles\", \"347\": \"garments\", \"348\": \"apparel\", \"349\": \"quality\", \"350\": \"ethical\", \"351\": \"recent\", \"352\": \"strides\", \"353\": \"service\", \"354\": \"growing\", \"355\": \"emphasis\", \"356\": \"information\", \"357\": \"business\", \"358\": \"process\", \"359\": \"outsourcing\", \"360\": \"another\", \"361\": \"vital\", \"362\": \"component\", \"363\": \"sites\", \"364\": \"attract\", \"365\": \"millions\", \"366\": \"annually\", \"367\": \"coasts\", \"368\": \"water\", \"369\": \"sports\", \"370\": \"scenic\", \"371\": \"trekking\", \"372\": \"routes\", \"373\": \"flocking\", \"374\": \"colonial\", \"375\": \"era\", \"376\": \"landmarks\", \"377\": \"ongoing\", \"378\": \"aiming\", \"379\": \"preserve\", \"380\": \"boosting\", \"381\": \"recognized\", \"382\": \"world\\'s\", \"383\": \"hotspots\", \"384\": \"parks\", \"385\": \"reserves\", \"386\": \"conservation\", \"387\": \"southeast\", \"388\": \"best\", \"389\": \"places\", \"390\": \"see\", \"391\": \"wild\", \"392\": \"northwest\", \"393\": \"large\", \"394\": \"number\", \"395\": \"lakes\", \"396\": \"sloth\", \"397\": \"bears\", \"398\": \"unesco\", \"399\": \"hotspot\", \"400\": \"degree\", \"401\": \"endemism\", \"402\": \"plants\", \"403\": \"animals\", \"404\": \"equally\", \"405\": \"coral\", \"406\": \"reefs\", \"407\": \"mangroves\", \"408\": \"seagrass\", \"409\": \"beds\", \"410\": \"waters\", \"411\": \"various\", \"412\": \"whales\", \"413\": \"dolphins\", \"414\": \"destination\", \"415\": \"whale\", \"416\": \"watching\", \"417\": \"protect\", \"418\": \"establishment\", \"419\": \"protected\", \"420\": \"initiatives\", \"421\": \"combat\", \"422\": \"illegal\", \"423\": \"fishing\", \"424\": \"despite\", \"425\": \"strengths\", \"426\": \"faces\", \"427\": \"several\", \"428\": \"political\", \"429\": \"instability\", \"430\": \"tensions\", \"431\": \"disparities\", \"432\": \"remain\", \"433\": \"issues\", \"434\": \"experienced\", \"435\": \"periods\", \"436\": \"notably\", \"437\": \"lasted\", \"438\": \"nearly\", \"439\": \"three\", \"440\": \"decades\", \"441\": \"until\", \"442\": \"2009\", \"443\": \"profound\", \"444\": \"social\", \"445\": \"fabric\", \"446\": \"post\", \"447\": \"reconciliation\", \"448\": \"rebuilding\", \"449\": \"continue\", \"450\": \"be\", \"451\": \"long\", \"452\": \"term\", \"453\": \"peace\", \"454\": \"address\", \"455\": \"grievances\", \"456\": \"affected\", \"457\": \"communities\", \"458\": \"unity\", \"459\": \"harmony\", \"460\": \"groups\", \"461\": \"managing\", \"462\": \"debt\", \"463\": \"ensuring\", \"464\": \"addressing\", \"465\": \"poverty\", \"466\": \"unemployment\", \"467\": \"covid\", \"468\": \"19\", \"469\": \"pandemic\", \"470\": \"however\", \"471\": \"resources\", \"472\": \"human\", \"473\": \"capital\", \"474\": \"present\", \"475\": \"investments\", \"476\": \"infrastructure\", \"477\": \"education\", \"478\": \"unlocking\", \"479\": \"full\", \"480\": \"potential\", \"481\": \"government\", \"482\": \"focusing\", \"483\": \"improving\", \"484\": \"connectivity\", \"485\": \"both\", \"486\": \"within\", \"487\": \"rest\", \"488\": \"boost\", \"489\": \"trade\", \"490\": \"immense\", \"491\": \"journey\", \"492\": \"through\", \"493\": \"ages\", \"494\": \"been\", \"495\": \"achievements\", \"496\": \"fascinating\", \"497\": \"subject\", \"498\": \"study\", \"499\": \"exploration\", \"500\": \"continues\", \"501\": \"navigate\", \"502\": \"path\", \"503\": \"towards\", \"504\": \"prosperity\", \"505\": \"remains\", \"506\": \"jewel\", \"507\": \"offering\", \"508\": \"unique\", \"509\": \"blend\", \"510\": \"tradition\", \"511\": \"modernity\", \"512\": \"resilience\", \"513\": \"adaptability\", \"514\": \"people\", \"515\": \"coupled\", \"516\": \"wealth\", \"517\": \"provide\", \"518\": \"strong\", \"519\": \"foundation\", \"520\": \"bright\", \"521\": \"future\"}',\n",
       " 'word_index': '{\"the\": 1, \"and\": 2, \"of\": 3, \"a\": 4, \"is\": 5, \"sri\": 6, \"to\": 7, \"for\": 8, \"in\": 9, \"its\": 10, \"with\": 11, \"lanka\": 12, \"are\": 13, \"natural\": 14, \"cultural\": 15, \"as\": 16, \"significant\": 17, \"by\": 18, \"also\": 19, \"country\\\\u2019s\": 20, \"world\": 21, \"beauty\": 22, \"this\": 23, \"diverse\": 24, \"from\": 25, \"tea\": 26, \"ancient\": 27, \"one\": 28, \"on\": 29, \"tourism\": 30, \"efforts\": 31, \"rich\": 32, \"history\": 33, \"island\\\\u2019s\": 34, \"it\": 35, \"lanka\\'s\": 36, \"marine\": 37, \"lankan\": 38, \"being\": 39, \"country\": 40, \"has\": 41, \"economic\": 42, \"often\": 43, \"indian\": 44, \"range\": 45, \"beaches\": 46, \"made\": 47, \"variety\": 48, \"highlands\": 49, \"home\": 50, \"areas\": 51, \"renowned\": 52, \"vibrant\": 53, \"making\": 54, \"popular\": 55, \"monsoon\": 56, \"while\": 57, \"biodiversity\": 58, \"many\": 59, \"species\": 60, \"heritage\": 61, \"temples\": 62, \"city\": 63, \"around\": 64, \"famous\": 65, \"diversity\": 66, \"most\": 67, \"which\": 68, \"known\": 69, \"curry\": 70, \"include\": 71, \"sector\": 72, \"economy\": 73, \"technology\": 74, \"growth\": 75, \"national\": 76, \"challenges\": 77, \"development\": 78, \"referred\": 79, \"ocean\": 80, \"island\": 81, \"culture\": 82, \"landscapes\": 83, \"that\": 84, \"pristine\": 85, \"plantations\": 86, \"strategic\": 87, \"location\": 88, \"centuries\": 89, \"marked\": 90, \"impressive\": 91, \"central\": 92, \"offer\": 93, \"climate\": 94, \"these\": 95, \"industry\": 96, \"coastal\": 97, \"their\": 98, \"stunning\": 99, \"life\": 100, \"tourists\": 101, \"southern\": 102, \"regions\": 103, \"eastern\": 104, \"supporting\": 105, \"wide\": 106, \"flora\": 107, \"fauna\": 108, \"including\": 109, \"endemic\": 110, \"years\": 111, \"includes\": 112, \"buddhism\": 113, \"historical\": 114, \"numerous\": 115, \"cities\": 116, \"well\": 117, \"preserved\": 118, \"major\": 119, \"site\": 120, \"sigiriya\": 121, \"remarkable\": 122, \"festivals\": 123, \"music\": 124, \"cuisine\": 125, \"traditional\": 126, \"kandy\": 127, \"elephants\": 128, \"visitors\": 129, \"spices\": 130, \"fish\": 131, \"dishes\": 132, \"such\": 133, \"particularly\": 134, \"key\": 135, \"sectors\": 136, \"manufacturing\": 137, \"production\": 138, \"exports\": 139, \"lanka\\\\u2019s\": 140, \"high\": 141, \"practices\": 142, \"opportunities\": 143, \"promote\": 144, \"sustainable\": 145, \"wildlife\": 146, \"yala\": 147, \"wilpattu\": 148, \"sinharaja\": 149, \"forest\": 150, \"reserve\": 151, \"crucial\": 152, \"park\": 153, \"located\": 154, \"leopards\": 155, \"among\": 156, \"ecosystems\": 157, \"ethnic\": 158, \"civil\": 159, \"conflict\": 160, \"war\": 161, \"had\": 162, \"impact\": 163, \"pearl\": 164, \"captivating\": 165, \"nation\": 166, \"tapestry\": 167, \"situated\": 168, \"off\": 169, \"southeastern\": 170, \"coast\": 171, \"india\": 172, \"boasts\": 173, \"lush\": 174, \"rainforests\": 175, \"rolling\": 176, \"rugged\": 177, \"mountain\": 178, \"ranges\": 179, \"have\": 180, \"player\": 181, \"region\": 182, \"geography\": 183, \"country\\'s\": 184, \"highest\": 185, \"peak\": 186, \"pidurutalagala\": 187, \"cool\": 188, \"picturesque\": 189, \"views\": 190, \"heart\": 191, \"expansive\": 192, \"producing\": 193, \"some\": 194, \"world\\\\u2019s\": 195, \"finest\": 196, \"contrast\": 197, \"them\": 198, \"destinations\": 199, \"locals\": 200, \"alike\": 201, \"tropical\": 202, \"maritime\": 203, \"characterized\": 204, \"two\": 205, \"distinct\": 206, \"seasons\": 207, \"southwest\": 208, \"brings\": 209, \"rain\": 210, \"western\": 211, \"may\": 212, \"september\": 213, \"northeast\": 214, \"affects\": 215, \"northern\": 216, \"december\": 217, \"february\": 218, \"climatic\": 219, \"variation\": 220, \"contributes\": 221, \"spans\": 222, \"over\": 223, \"2\": 224, \"500\": 225, \"influences\": 226, \"hinduism\": 227, \"christianity\": 228, \"islam\": 229, \"significance\": 230, \"evident\": 231, \"monuments\": 232, \"anuradhapura\": 233, \"capitals\": 234, \"ruins\": 235, \"an\": 236, \"civilization\": 237, \"was\": 238, \"center\": 239, \"theravada\": 240, \"still\": 241, \"pilgrimage\": 242, \"buddhists\": 243, \"polonnaruwa\": 244, \"showcases\": 245, \"grandeur\": 246, \"medieval\": 247, \"architecture\": 248, \"art\": 249, \"palaces\": 250, \"statues\": 251, \"rock\": 252, \"fortress\": 253, \"eighth\": 254, \"wonder\": 255, \"feat\": 256, \"engineering\": 257, \"artistry\": 258, \"built\": 259, \"king\": 260, \"kasyapa\": 261, \"5th\": 262, \"century\": 263, \"frescoes\": 264, \"landscaped\": 265, \"gardens\": 266, \"lion\\'s\": 267, \"gate\": 268, \"reflected\": 269, \"dance\": 270, \"colorful\": 271, \"featuring\": 272, \"elaborate\": 273, \"processions\": 274, \"dances\": 275, \"annual\": 276, \"esala\": 277, \"perahera\": 278, \"spectacular\": 279, \"events\": 280, \"honoring\": 281, \"sacred\": 282, \"tooth\": 283, \"relic\": 284, \"buddha\": 285, \"grand\": 286, \"procession\": 287, \"takes\": 288, \"place\": 289, \"features\": 290, \"beautifully\": 291, \"decorated\": 292, \"dancers\": 293, \"drummers\": 294, \"fire\": 295, \"performers\": 296, \"drawing\": 297, \"thousands\": 298, \"reflection\": 299, \"influenced\": 300, \"south\": 301, \"portuguese\": 302, \"dutch\": 303, \"british\": 304, \"cuisines\": 305, \"food\": 306, \"bold\": 307, \"flavors\": 308, \"aromatic\": 309, \"rice\": 310, \"staple\": 311, \"dish\": 312, \"typically\": 313, \"served\": 314, \"vegetable\": 315, \"or\": 316, \"meat\": 317, \"curries\": 318, \"accompanied\": 319, \"side\": 320, \"sambols\": 321, \"pickles\": 322, \"chutneys\": 323, \"seafood\": 324, \"plays\": 325, \"role\": 326, \"like\": 327, \"ambul\": 328, \"thiyal\": 329, \"sour\": 330, \"prawn\": 331, \"economically\": 332, \"rapidly\": 333, \"developing\": 334, \"agriculture\": 335, \"services\": 336, \"rubber\": 337, \"coconut\": 338, \"ceylon\": 339, \"agricultural\": 340, \"fruits\": 341, \"vegetables\": 342, \"contribute\": 343, \"significantly\": 344, \"diversified\": 345, \"textiles\": 346, \"garments\": 347, \"apparel\": 348, \"quality\": 349, \"ethical\": 350, \"recent\": 351, \"strides\": 352, \"service\": 353, \"growing\": 354, \"emphasis\": 355, \"information\": 356, \"business\": 357, \"process\": 358, \"outsourcing\": 359, \"another\": 360, \"vital\": 361, \"component\": 362, \"sites\": 363, \"attract\": 364, \"millions\": 365, \"annually\": 366, \"coasts\": 367, \"water\": 368, \"sports\": 369, \"scenic\": 370, \"trekking\": 371, \"routes\": 372, \"flocking\": 373, \"colonial\": 374, \"era\": 375, \"landmarks\": 376, \"ongoing\": 377, \"aiming\": 378, \"preserve\": 379, \"boosting\": 380, \"recognized\": 381, \"world\\'s\": 382, \"hotspots\": 383, \"parks\": 384, \"reserves\": 385, \"conservation\": 386, \"southeast\": 387, \"best\": 388, \"places\": 389, \"see\": 390, \"wild\": 391, \"northwest\": 392, \"large\": 393, \"number\": 394, \"lakes\": 395, \"sloth\": 396, \"bears\": 397, \"unesco\": 398, \"hotspot\": 399, \"degree\": 400, \"endemism\": 401, \"plants\": 402, \"animals\": 403, \"equally\": 404, \"coral\": 405, \"reefs\": 406, \"mangroves\": 407, \"seagrass\": 408, \"beds\": 409, \"waters\": 410, \"various\": 411, \"whales\": 412, \"dolphins\": 413, \"destination\": 414, \"whale\": 415, \"watching\": 416, \"protect\": 417, \"establishment\": 418, \"protected\": 419, \"initiatives\": 420, \"combat\": 421, \"illegal\": 422, \"fishing\": 423, \"despite\": 424, \"strengths\": 425, \"faces\": 426, \"several\": 427, \"political\": 428, \"instability\": 429, \"tensions\": 430, \"disparities\": 431, \"remain\": 432, \"issues\": 433, \"experienced\": 434, \"periods\": 435, \"notably\": 436, \"lasted\": 437, \"nearly\": 438, \"three\": 439, \"decades\": 440, \"until\": 441, \"2009\": 442, \"profound\": 443, \"social\": 444, \"fabric\": 445, \"post\": 446, \"reconciliation\": 447, \"rebuilding\": 448, \"continue\": 449, \"be\": 450, \"long\": 451, \"term\": 452, \"peace\": 453, \"address\": 454, \"grievances\": 455, \"affected\": 456, \"communities\": 457, \"unity\": 458, \"harmony\": 459, \"groups\": 460, \"managing\": 461, \"debt\": 462, \"ensuring\": 463, \"addressing\": 464, \"poverty\": 465, \"unemployment\": 466, \"covid\": 467, \"19\": 468, \"pandemic\": 469, \"however\": 470, \"resources\": 471, \"human\": 472, \"capital\": 473, \"present\": 474, \"investments\": 475, \"infrastructure\": 476, \"education\": 477, \"unlocking\": 478, \"full\": 479, \"potential\": 480, \"government\": 481, \"focusing\": 482, \"improving\": 483, \"connectivity\": 484, \"both\": 485, \"within\": 486, \"rest\": 487, \"boost\": 488, \"trade\": 489, \"immense\": 490, \"journey\": 491, \"through\": 492, \"ages\": 493, \"been\": 494, \"achievements\": 495, \"fascinating\": 496, \"subject\": 497, \"study\": 498, \"exploration\": 499, \"continues\": 500, \"navigate\": 501, \"path\": 502, \"towards\": 503, \"prosperity\": 504, \"remains\": 505, \"jewel\": 506, \"offering\": 507, \"unique\": 508, \"blend\": 509, \"tradition\": 510, \"modernity\": 511, \"resilience\": 512, \"adaptability\": 513, \"people\": 514, \"coupled\": 515, \"wealth\": 516, \"provide\": 517, \"strong\": 518, \"foundation\": 519, \"bright\": 520, \"future\": 521}'}"
      ]
     },
     "execution_count": 8,
     "metadata": {},
     "output_type": "execute_result"
    }
   ],
   "source": [
    "tokenizer.get_config()\n"
   ]
  },
  {
   "cell_type": "code",
   "execution_count": 7,
   "metadata": {
    "colab": {
     "base_uri": "https://localhost:8080/",
     "height": 35
    },
    "id": "2lL7QiYzKvrr",
    "outputId": "a4c5a28b-0ee1-493d-b660-da53fe9ac951"
   },
   "outputs": [
    {
     "data": {
      "application/vnd.google.colaboratory.intrinsic+json": {
       "type": "string"
      },
      "text/plain": [
       "'!\"#$%&()*+,-./:;<=>?@[\\\\]^_`{|}~\\t\\n'"
      ]
     },
     "execution_count": 7,
     "metadata": {},
     "output_type": "execute_result"
    }
   ],
   "source": [
    "tokenizer.get_config()['filters']"
   ]
  },
  {
   "cell_type": "code",
   "execution_count": 9,
   "metadata": {
    "colab": {
     "base_uri": "https://localhost:8080/"
    },
    "id": "rGkm6EwILDSA",
    "outputId": "7b72a4f6-afbc-4ed2-db3f-c5657ac04764"
   },
   "outputs": [
    {
     "data": {
      "text/plain": [
       "{'the': 1,\n",
       " 'and': 2,\n",
       " 'of': 3,\n",
       " 'a': 4,\n",
       " 'is': 5,\n",
       " 'sri': 6,\n",
       " 'to': 7,\n",
       " 'for': 8,\n",
       " 'in': 9,\n",
       " 'its': 10,\n",
       " 'with': 11,\n",
       " 'lanka': 12,\n",
       " 'are': 13,\n",
       " 'natural': 14,\n",
       " 'cultural': 15,\n",
       " 'as': 16,\n",
       " 'significant': 17,\n",
       " 'by': 18,\n",
       " 'also': 19,\n",
       " 'country’s': 20,\n",
       " 'world': 21,\n",
       " 'beauty': 22,\n",
       " 'this': 23,\n",
       " 'diverse': 24,\n",
       " 'from': 25,\n",
       " 'tea': 26,\n",
       " 'ancient': 27,\n",
       " 'one': 28,\n",
       " 'on': 29,\n",
       " 'tourism': 30,\n",
       " 'efforts': 31,\n",
       " 'rich': 32,\n",
       " 'history': 33,\n",
       " 'island’s': 34,\n",
       " 'it': 35,\n",
       " \"lanka's\": 36,\n",
       " 'marine': 37,\n",
       " 'lankan': 38,\n",
       " 'being': 39,\n",
       " 'country': 40,\n",
       " 'has': 41,\n",
       " 'economic': 42,\n",
       " 'often': 43,\n",
       " 'indian': 44,\n",
       " 'range': 45,\n",
       " 'beaches': 46,\n",
       " 'made': 47,\n",
       " 'variety': 48,\n",
       " 'highlands': 49,\n",
       " 'home': 50,\n",
       " 'areas': 51,\n",
       " 'renowned': 52,\n",
       " 'vibrant': 53,\n",
       " 'making': 54,\n",
       " 'popular': 55,\n",
       " 'monsoon': 56,\n",
       " 'while': 57,\n",
       " 'biodiversity': 58,\n",
       " 'many': 59,\n",
       " 'species': 60,\n",
       " 'heritage': 61,\n",
       " 'temples': 62,\n",
       " 'city': 63,\n",
       " 'around': 64,\n",
       " 'famous': 65,\n",
       " 'diversity': 66,\n",
       " 'most': 67,\n",
       " 'which': 68,\n",
       " 'known': 69,\n",
       " 'curry': 70,\n",
       " 'include': 71,\n",
       " 'sector': 72,\n",
       " 'economy': 73,\n",
       " 'technology': 74,\n",
       " 'growth': 75,\n",
       " 'national': 76,\n",
       " 'challenges': 77,\n",
       " 'development': 78,\n",
       " 'referred': 79,\n",
       " 'ocean': 80,\n",
       " 'island': 81,\n",
       " 'culture': 82,\n",
       " 'landscapes': 83,\n",
       " 'that': 84,\n",
       " 'pristine': 85,\n",
       " 'plantations': 86,\n",
       " 'strategic': 87,\n",
       " 'location': 88,\n",
       " 'centuries': 89,\n",
       " 'marked': 90,\n",
       " 'impressive': 91,\n",
       " 'central': 92,\n",
       " 'offer': 93,\n",
       " 'climate': 94,\n",
       " 'these': 95,\n",
       " 'industry': 96,\n",
       " 'coastal': 97,\n",
       " 'their': 98,\n",
       " 'stunning': 99,\n",
       " 'life': 100,\n",
       " 'tourists': 101,\n",
       " 'southern': 102,\n",
       " 'regions': 103,\n",
       " 'eastern': 104,\n",
       " 'supporting': 105,\n",
       " 'wide': 106,\n",
       " 'flora': 107,\n",
       " 'fauna': 108,\n",
       " 'including': 109,\n",
       " 'endemic': 110,\n",
       " 'years': 111,\n",
       " 'includes': 112,\n",
       " 'buddhism': 113,\n",
       " 'historical': 114,\n",
       " 'numerous': 115,\n",
       " 'cities': 116,\n",
       " 'well': 117,\n",
       " 'preserved': 118,\n",
       " 'major': 119,\n",
       " 'site': 120,\n",
       " 'sigiriya': 121,\n",
       " 'remarkable': 122,\n",
       " 'festivals': 123,\n",
       " 'music': 124,\n",
       " 'cuisine': 125,\n",
       " 'traditional': 126,\n",
       " 'kandy': 127,\n",
       " 'elephants': 128,\n",
       " 'visitors': 129,\n",
       " 'spices': 130,\n",
       " 'fish': 131,\n",
       " 'dishes': 132,\n",
       " 'such': 133,\n",
       " 'particularly': 134,\n",
       " 'key': 135,\n",
       " 'sectors': 136,\n",
       " 'manufacturing': 137,\n",
       " 'production': 138,\n",
       " 'exports': 139,\n",
       " 'lanka’s': 140,\n",
       " 'high': 141,\n",
       " 'practices': 142,\n",
       " 'opportunities': 143,\n",
       " 'promote': 144,\n",
       " 'sustainable': 145,\n",
       " 'wildlife': 146,\n",
       " 'yala': 147,\n",
       " 'wilpattu': 148,\n",
       " 'sinharaja': 149,\n",
       " 'forest': 150,\n",
       " 'reserve': 151,\n",
       " 'crucial': 152,\n",
       " 'park': 153,\n",
       " 'located': 154,\n",
       " 'leopards': 155,\n",
       " 'among': 156,\n",
       " 'ecosystems': 157,\n",
       " 'ethnic': 158,\n",
       " 'civil': 159,\n",
       " 'conflict': 160,\n",
       " 'war': 161,\n",
       " 'had': 162,\n",
       " 'impact': 163,\n",
       " 'pearl': 164,\n",
       " 'captivating': 165,\n",
       " 'nation': 166,\n",
       " 'tapestry': 167,\n",
       " 'situated': 168,\n",
       " 'off': 169,\n",
       " 'southeastern': 170,\n",
       " 'coast': 171,\n",
       " 'india': 172,\n",
       " 'boasts': 173,\n",
       " 'lush': 174,\n",
       " 'rainforests': 175,\n",
       " 'rolling': 176,\n",
       " 'rugged': 177,\n",
       " 'mountain': 178,\n",
       " 'ranges': 179,\n",
       " 'have': 180,\n",
       " 'player': 181,\n",
       " 'region': 182,\n",
       " 'geography': 183,\n",
       " \"country's\": 184,\n",
       " 'highest': 185,\n",
       " 'peak': 186,\n",
       " 'pidurutalagala': 187,\n",
       " 'cool': 188,\n",
       " 'picturesque': 189,\n",
       " 'views': 190,\n",
       " 'heart': 191,\n",
       " 'expansive': 192,\n",
       " 'producing': 193,\n",
       " 'some': 194,\n",
       " 'world’s': 195,\n",
       " 'finest': 196,\n",
       " 'contrast': 197,\n",
       " 'them': 198,\n",
       " 'destinations': 199,\n",
       " 'locals': 200,\n",
       " 'alike': 201,\n",
       " 'tropical': 202,\n",
       " 'maritime': 203,\n",
       " 'characterized': 204,\n",
       " 'two': 205,\n",
       " 'distinct': 206,\n",
       " 'seasons': 207,\n",
       " 'southwest': 208,\n",
       " 'brings': 209,\n",
       " 'rain': 210,\n",
       " 'western': 211,\n",
       " 'may': 212,\n",
       " 'september': 213,\n",
       " 'northeast': 214,\n",
       " 'affects': 215,\n",
       " 'northern': 216,\n",
       " 'december': 217,\n",
       " 'february': 218,\n",
       " 'climatic': 219,\n",
       " 'variation': 220,\n",
       " 'contributes': 221,\n",
       " 'spans': 222,\n",
       " 'over': 223,\n",
       " '2': 224,\n",
       " '500': 225,\n",
       " 'influences': 226,\n",
       " 'hinduism': 227,\n",
       " 'christianity': 228,\n",
       " 'islam': 229,\n",
       " 'significance': 230,\n",
       " 'evident': 231,\n",
       " 'monuments': 232,\n",
       " 'anuradhapura': 233,\n",
       " 'capitals': 234,\n",
       " 'ruins': 235,\n",
       " 'an': 236,\n",
       " 'civilization': 237,\n",
       " 'was': 238,\n",
       " 'center': 239,\n",
       " 'theravada': 240,\n",
       " 'still': 241,\n",
       " 'pilgrimage': 242,\n",
       " 'buddhists': 243,\n",
       " 'polonnaruwa': 244,\n",
       " 'showcases': 245,\n",
       " 'grandeur': 246,\n",
       " 'medieval': 247,\n",
       " 'architecture': 248,\n",
       " 'art': 249,\n",
       " 'palaces': 250,\n",
       " 'statues': 251,\n",
       " 'rock': 252,\n",
       " 'fortress': 253,\n",
       " 'eighth': 254,\n",
       " 'wonder': 255,\n",
       " 'feat': 256,\n",
       " 'engineering': 257,\n",
       " 'artistry': 258,\n",
       " 'built': 259,\n",
       " 'king': 260,\n",
       " 'kasyapa': 261,\n",
       " '5th': 262,\n",
       " 'century': 263,\n",
       " 'frescoes': 264,\n",
       " 'landscaped': 265,\n",
       " 'gardens': 266,\n",
       " \"lion's\": 267,\n",
       " 'gate': 268,\n",
       " 'reflected': 269,\n",
       " 'dance': 270,\n",
       " 'colorful': 271,\n",
       " 'featuring': 272,\n",
       " 'elaborate': 273,\n",
       " 'processions': 274,\n",
       " 'dances': 275,\n",
       " 'annual': 276,\n",
       " 'esala': 277,\n",
       " 'perahera': 278,\n",
       " 'spectacular': 279,\n",
       " 'events': 280,\n",
       " 'honoring': 281,\n",
       " 'sacred': 282,\n",
       " 'tooth': 283,\n",
       " 'relic': 284,\n",
       " 'buddha': 285,\n",
       " 'grand': 286,\n",
       " 'procession': 287,\n",
       " 'takes': 288,\n",
       " 'place': 289,\n",
       " 'features': 290,\n",
       " 'beautifully': 291,\n",
       " 'decorated': 292,\n",
       " 'dancers': 293,\n",
       " 'drummers': 294,\n",
       " 'fire': 295,\n",
       " 'performers': 296,\n",
       " 'drawing': 297,\n",
       " 'thousands': 298,\n",
       " 'reflection': 299,\n",
       " 'influenced': 300,\n",
       " 'south': 301,\n",
       " 'portuguese': 302,\n",
       " 'dutch': 303,\n",
       " 'british': 304,\n",
       " 'cuisines': 305,\n",
       " 'food': 306,\n",
       " 'bold': 307,\n",
       " 'flavors': 308,\n",
       " 'aromatic': 309,\n",
       " 'rice': 310,\n",
       " 'staple': 311,\n",
       " 'dish': 312,\n",
       " 'typically': 313,\n",
       " 'served': 314,\n",
       " 'vegetable': 315,\n",
       " 'or': 316,\n",
       " 'meat': 317,\n",
       " 'curries': 318,\n",
       " 'accompanied': 319,\n",
       " 'side': 320,\n",
       " 'sambols': 321,\n",
       " 'pickles': 322,\n",
       " 'chutneys': 323,\n",
       " 'seafood': 324,\n",
       " 'plays': 325,\n",
       " 'role': 326,\n",
       " 'like': 327,\n",
       " 'ambul': 328,\n",
       " 'thiyal': 329,\n",
       " 'sour': 330,\n",
       " 'prawn': 331,\n",
       " 'economically': 332,\n",
       " 'rapidly': 333,\n",
       " 'developing': 334,\n",
       " 'agriculture': 335,\n",
       " 'services': 336,\n",
       " 'rubber': 337,\n",
       " 'coconut': 338,\n",
       " 'ceylon': 339,\n",
       " 'agricultural': 340,\n",
       " 'fruits': 341,\n",
       " 'vegetables': 342,\n",
       " 'contribute': 343,\n",
       " 'significantly': 344,\n",
       " 'diversified': 345,\n",
       " 'textiles': 346,\n",
       " 'garments': 347,\n",
       " 'apparel': 348,\n",
       " 'quality': 349,\n",
       " 'ethical': 350,\n",
       " 'recent': 351,\n",
       " 'strides': 352,\n",
       " 'service': 353,\n",
       " 'growing': 354,\n",
       " 'emphasis': 355,\n",
       " 'information': 356,\n",
       " 'business': 357,\n",
       " 'process': 358,\n",
       " 'outsourcing': 359,\n",
       " 'another': 360,\n",
       " 'vital': 361,\n",
       " 'component': 362,\n",
       " 'sites': 363,\n",
       " 'attract': 364,\n",
       " 'millions': 365,\n",
       " 'annually': 366,\n",
       " 'coasts': 367,\n",
       " 'water': 368,\n",
       " 'sports': 369,\n",
       " 'scenic': 370,\n",
       " 'trekking': 371,\n",
       " 'routes': 372,\n",
       " 'flocking': 373,\n",
       " 'colonial': 374,\n",
       " 'era': 375,\n",
       " 'landmarks': 376,\n",
       " 'ongoing': 377,\n",
       " 'aiming': 378,\n",
       " 'preserve': 379,\n",
       " 'boosting': 380,\n",
       " 'recognized': 381,\n",
       " \"world's\": 382,\n",
       " 'hotspots': 383,\n",
       " 'parks': 384,\n",
       " 'reserves': 385,\n",
       " 'conservation': 386,\n",
       " 'southeast': 387,\n",
       " 'best': 388,\n",
       " 'places': 389,\n",
       " 'see': 390,\n",
       " 'wild': 391,\n",
       " 'northwest': 392,\n",
       " 'large': 393,\n",
       " 'number': 394,\n",
       " 'lakes': 395,\n",
       " 'sloth': 396,\n",
       " 'bears': 397,\n",
       " 'unesco': 398,\n",
       " 'hotspot': 399,\n",
       " 'degree': 400,\n",
       " 'endemism': 401,\n",
       " 'plants': 402,\n",
       " 'animals': 403,\n",
       " 'equally': 404,\n",
       " 'coral': 405,\n",
       " 'reefs': 406,\n",
       " 'mangroves': 407,\n",
       " 'seagrass': 408,\n",
       " 'beds': 409,\n",
       " 'waters': 410,\n",
       " 'various': 411,\n",
       " 'whales': 412,\n",
       " 'dolphins': 413,\n",
       " 'destination': 414,\n",
       " 'whale': 415,\n",
       " 'watching': 416,\n",
       " 'protect': 417,\n",
       " 'establishment': 418,\n",
       " 'protected': 419,\n",
       " 'initiatives': 420,\n",
       " 'combat': 421,\n",
       " 'illegal': 422,\n",
       " 'fishing': 423,\n",
       " 'despite': 424,\n",
       " 'strengths': 425,\n",
       " 'faces': 426,\n",
       " 'several': 427,\n",
       " 'political': 428,\n",
       " 'instability': 429,\n",
       " 'tensions': 430,\n",
       " 'disparities': 431,\n",
       " 'remain': 432,\n",
       " 'issues': 433,\n",
       " 'experienced': 434,\n",
       " 'periods': 435,\n",
       " 'notably': 436,\n",
       " 'lasted': 437,\n",
       " 'nearly': 438,\n",
       " 'three': 439,\n",
       " 'decades': 440,\n",
       " 'until': 441,\n",
       " '2009': 442,\n",
       " 'profound': 443,\n",
       " 'social': 444,\n",
       " 'fabric': 445,\n",
       " 'post': 446,\n",
       " 'reconciliation': 447,\n",
       " 'rebuilding': 448,\n",
       " 'continue': 449,\n",
       " 'be': 450,\n",
       " 'long': 451,\n",
       " 'term': 452,\n",
       " 'peace': 453,\n",
       " 'address': 454,\n",
       " 'grievances': 455,\n",
       " 'affected': 456,\n",
       " 'communities': 457,\n",
       " 'unity': 458,\n",
       " 'harmony': 459,\n",
       " 'groups': 460,\n",
       " 'managing': 461,\n",
       " 'debt': 462,\n",
       " 'ensuring': 463,\n",
       " 'addressing': 464,\n",
       " 'poverty': 465,\n",
       " 'unemployment': 466,\n",
       " 'covid': 467,\n",
       " '19': 468,\n",
       " 'pandemic': 469,\n",
       " 'however': 470,\n",
       " 'resources': 471,\n",
       " 'human': 472,\n",
       " 'capital': 473,\n",
       " 'present': 474,\n",
       " 'investments': 475,\n",
       " 'infrastructure': 476,\n",
       " 'education': 477,\n",
       " 'unlocking': 478,\n",
       " 'full': 479,\n",
       " 'potential': 480,\n",
       " 'government': 481,\n",
       " 'focusing': 482,\n",
       " 'improving': 483,\n",
       " 'connectivity': 484,\n",
       " 'both': 485,\n",
       " 'within': 486,\n",
       " 'rest': 487,\n",
       " 'boost': 488,\n",
       " 'trade': 489,\n",
       " 'immense': 490,\n",
       " 'journey': 491,\n",
       " 'through': 492,\n",
       " 'ages': 493,\n",
       " 'been': 494,\n",
       " 'achievements': 495,\n",
       " 'fascinating': 496,\n",
       " 'subject': 497,\n",
       " 'study': 498,\n",
       " 'exploration': 499,\n",
       " 'continues': 500,\n",
       " 'navigate': 501,\n",
       " 'path': 502,\n",
       " 'towards': 503,\n",
       " 'prosperity': 504,\n",
       " 'remains': 505,\n",
       " 'jewel': 506,\n",
       " 'offering': 507,\n",
       " 'unique': 508,\n",
       " 'blend': 509,\n",
       " 'tradition': 510,\n",
       " 'modernity': 511,\n",
       " 'resilience': 512,\n",
       " 'adaptability': 513,\n",
       " 'people': 514,\n",
       " 'coupled': 515,\n",
       " 'wealth': 516,\n",
       " 'provide': 517,\n",
       " 'strong': 518,\n",
       " 'foundation': 519,\n",
       " 'bright': 520,\n",
       " 'future': 521}"
      ]
     },
     "execution_count": 9,
     "metadata": {},
     "output_type": "execute_result"
    }
   ],
   "source": [
    "tokenizer.word_index\n"
   ]
  },
  {
   "cell_type": "code",
   "execution_count": 10,
   "metadata": {
    "id": "3GTjwGMfMAgi"
   },
   "outputs": [],
   "source": [
    "input_sequences = []\n",
    "for sentence in sriLanka.split('\\n'):\n",
    "    token_list = tokenizer.texts_to_sequences([sentence])[0]\n",
    "    for i in range(1, len(token_list)):\n",
    "        sequence = token_list[:i+1]\n",
    "        input_sequences.append(sequence)"
   ]
  },
  {
   "cell_type": "code",
   "execution_count": 11,
   "metadata": {
    "colab": {
     "base_uri": "https://localhost:8080/"
    },
    "id": "MU4XMYA_MGZE",
    "outputId": "8b3abfab-63c8-4044-c4bb-b560e5b736d9"
   },
   "outputs": [
    {
     "data": {
      "text/plain": [
       "[[6, 12],\n",
       " [6, 12, 43],\n",
       " [6, 12, 43, 79],\n",
       " [6, 12, 43, 79, 7],\n",
       " [6, 12, 43, 79, 7, 16]]"
      ]
     },
     "execution_count": 11,
     "metadata": {},
     "output_type": "execute_result"
    }
   ],
   "source": [
    "input_sequences[:5]"
   ]
  },
  {
   "cell_type": "code",
   "execution_count": 12,
   "metadata": {
    "colab": {
     "base_uri": "https://localhost:8080/"
    },
    "id": "v7EI_ny0Mjpa",
    "outputId": "4ec228f4-9dc7-4d46-ae74-3d51005d3d88"
   },
   "outputs": [
    {
     "data": {
      "text/plain": [
       "145"
      ]
     },
     "execution_count": 12,
     "metadata": {},
     "output_type": "execute_result"
    }
   ],
   "source": [
    "max_length = max([len(input_sequence) for input_sequence in input_sequences])\n",
    "max_length"
   ]
  },
  {
   "cell_type": "code",
   "execution_count": 13,
   "metadata": {
    "id": "gllQqih0M16s"
   },
   "outputs": [],
   "source": [
    "# add padding\n",
    "input_sequences = np.array(tf.keras.preprocessing.sequence.pad_sequences(input_sequences, maxlen=max_length, padding='pre'))"
   ]
  },
  {
   "cell_type": "code",
   "execution_count": 14,
   "metadata": {
    "colab": {
     "base_uri": "https://localhost:8080/"
    },
    "id": "8kQ9xSSGM9GS",
    "outputId": "ba8a7bfc-29a3-4352-e6fb-a20202e01d6d"
   },
   "outputs": [
    {
     "data": {
      "text/plain": [
       "array([ 0,  0,  0,  0,  0,  0,  0,  0,  0,  0,  0,  0,  0,  0,  0,  0,  0,\n",
       "        0,  0,  0,  0,  0,  0,  0,  0,  0,  0,  0,  0,  0,  0,  0,  0,  0,\n",
       "        0,  0,  0,  0,  0,  0,  0,  0,  0,  0,  0,  0,  0,  0,  0,  0,  0,\n",
       "        0,  0,  0,  0,  0,  0,  0,  0,  0,  0,  0,  0,  0,  0,  0,  0,  0,\n",
       "        0,  0,  0,  0,  0,  0,  0,  0,  0,  0,  0,  0,  0,  0,  0,  0,  0,\n",
       "        0,  0,  0,  0,  0,  0,  0,  0,  0,  0,  0,  0,  0,  0,  0,  0,  0,\n",
       "        0,  0,  0,  0,  0,  0,  0,  0,  0,  0,  0,  0,  0,  0,  0,  0,  0,\n",
       "        0,  0,  0,  0,  0,  0,  0,  0,  0,  0,  0,  0,  0,  0,  0,  0,  0,\n",
       "        0,  0,  0,  0,  0,  0,  6, 12, 43], dtype=int32)"
      ]
     },
     "execution_count": 14,
     "metadata": {},
     "output_type": "execute_result"
    }
   ],
   "source": [
    "input_sequences[1]"
   ]
  },
  {
   "cell_type": "code",
   "execution_count": 15,
   "metadata": {
    "id": "i1KYJbYHNIGa"
   },
   "outputs": [],
   "source": [
    "# divide dataset into feature set (X) and labels (y)\n",
    "X = input_sequences[:, :-1]\n",
    "y = input_sequences[:, -1]"
   ]
  },
  {
   "cell_type": "code",
   "execution_count": 16,
   "metadata": {
    "colab": {
     "base_uri": "https://localhost:8080/"
    },
    "id": "5tpTYZR3NYy9",
    "outputId": "f36bff70-174c-4fbe-8b36-49db1d916f81"
   },
   "outputs": [
    {
     "data": {
      "text/plain": [
       "array([0, 0, 0, 0, 0, 0, 0, 0, 0, 0, 0, 0, 0, 0, 0, 0, 0, 0, 0, 0, 0, 0,\n",
       "       0, 0, 0, 0, 0, 0, 0, 0, 0, 0, 0, 0, 0, 0, 0, 0, 0, 0, 0, 0, 0, 0,\n",
       "       0, 0, 0, 0, 0, 0, 0, 0, 0, 0, 0, 0, 0, 0, 0, 0, 0, 0, 0, 0, 0, 0,\n",
       "       0, 0, 0, 0, 0, 0, 0, 0, 0, 0, 0, 0, 0, 0, 0, 0, 0, 0, 0, 0, 0, 0,\n",
       "       0, 0, 0, 0, 0, 0, 0, 0, 0, 0, 0, 0, 0, 0, 0, 0, 0, 0, 0, 0, 0, 0,\n",
       "       0, 0, 0, 0, 0, 0, 0, 0, 0, 0, 0, 0, 0, 0, 0, 0, 0, 0, 0, 0, 0, 0,\n",
       "       0, 0, 0, 0, 0, 0, 0, 0, 0, 0, 0, 6], dtype=int32)"
      ]
     },
     "execution_count": 16,
     "metadata": {},
     "output_type": "execute_result"
    }
   ],
   "source": [
    "X[0]"
   ]
  },
  {
   "cell_type": "code",
   "execution_count": 17,
   "metadata": {
    "colab": {
     "base_uri": "https://localhost:8080/"
    },
    "id": "_zKLsbwaNdpR",
    "outputId": "df406d86-f45c-46bd-f2c2-b55732f6c791"
   },
   "outputs": [
    {
     "data": {
      "text/plain": [
       "array([ 12,  43,  79, ...,   4, 520, 521], dtype=int32)"
      ]
     },
     "execution_count": 17,
     "metadata": {},
     "output_type": "execute_result"
    }
   ],
   "source": [
    "y"
   ]
  },
  {
   "cell_type": "code",
   "execution_count": 18,
   "metadata": {
    "id": "bcqljvVtNgUi"
   },
   "outputs": [],
   "source": [
    "# number of words\n",
    "num_classes = len(tokenizer.word_index)+1"
   ]
  },
  {
   "cell_type": "code",
   "execution_count": 19,
   "metadata": {
    "id": "wIXSWJYYN63U"
   },
   "outputs": [],
   "source": [
    "# one-hot encoding labels\n",
    "y = np.array(tf.keras.utils.to_categorical(y, num_classes=num_classes))"
   ]
  },
  {
   "cell_type": "code",
   "execution_count": 20,
   "metadata": {
    "colab": {
     "base_uri": "https://localhost:8080/"
    },
    "id": "yBBmi5g8OAdY",
    "outputId": "c9a4f2bf-6796-43d4-978e-a9232b4ba039"
   },
   "outputs": [
    {
     "data": {
      "text/plain": [
       "array([0., 0., 0., 0., 0., 0., 0., 0., 0., 0., 0., 0., 0., 0., 0., 0., 0.,\n",
       "       0., 0., 0., 0., 0., 0., 0., 0., 0., 0., 0., 0., 0., 0., 0., 0., 0.,\n",
       "       0., 0., 0., 0., 0., 0., 0., 0., 0., 1., 0., 0., 0., 0., 0., 0., 0.,\n",
       "       0., 0., 0., 0., 0., 0., 0., 0., 0., 0., 0., 0., 0., 0., 0., 0., 0.,\n",
       "       0., 0., 0., 0., 0., 0., 0., 0., 0., 0., 0., 0., 0., 0., 0., 0., 0.,\n",
       "       0., 0., 0., 0., 0., 0., 0., 0., 0., 0., 0., 0., 0., 0., 0., 0., 0.,\n",
       "       0., 0., 0., 0., 0., 0., 0., 0., 0., 0., 0., 0., 0., 0., 0., 0., 0.,\n",
       "       0., 0., 0., 0., 0., 0., 0., 0., 0., 0., 0., 0., 0., 0., 0., 0., 0.,\n",
       "       0., 0., 0., 0., 0., 0., 0., 0., 0., 0., 0., 0., 0., 0., 0., 0., 0.,\n",
       "       0., 0., 0., 0., 0., 0., 0., 0., 0., 0., 0., 0., 0., 0., 0., 0., 0.,\n",
       "       0., 0., 0., 0., 0., 0., 0., 0., 0., 0., 0., 0., 0., 0., 0., 0., 0.,\n",
       "       0., 0., 0., 0., 0., 0., 0., 0., 0., 0., 0., 0., 0., 0., 0., 0., 0.,\n",
       "       0., 0., 0., 0., 0., 0., 0., 0., 0., 0., 0., 0., 0., 0., 0., 0., 0.,\n",
       "       0., 0., 0., 0., 0., 0., 0., 0., 0., 0., 0., 0., 0., 0., 0., 0., 0.,\n",
       "       0., 0., 0., 0., 0., 0., 0., 0., 0., 0., 0., 0., 0., 0., 0., 0., 0.,\n",
       "       0., 0., 0., 0., 0., 0., 0., 0., 0., 0., 0., 0., 0., 0., 0., 0., 0.,\n",
       "       0., 0., 0., 0., 0., 0., 0., 0., 0., 0., 0., 0., 0., 0., 0., 0., 0.,\n",
       "       0., 0., 0., 0., 0., 0., 0., 0., 0., 0., 0., 0., 0., 0., 0., 0., 0.,\n",
       "       0., 0., 0., 0., 0., 0., 0., 0., 0., 0., 0., 0., 0., 0., 0., 0., 0.,\n",
       "       0., 0., 0., 0., 0., 0., 0., 0., 0., 0., 0., 0., 0., 0., 0., 0., 0.,\n",
       "       0., 0., 0., 0., 0., 0., 0., 0., 0., 0., 0., 0., 0., 0., 0., 0., 0.,\n",
       "       0., 0., 0., 0., 0., 0., 0., 0., 0., 0., 0., 0., 0., 0., 0., 0., 0.,\n",
       "       0., 0., 0., 0., 0., 0., 0., 0., 0., 0., 0., 0., 0., 0., 0., 0., 0.,\n",
       "       0., 0., 0., 0., 0., 0., 0., 0., 0., 0., 0., 0., 0., 0., 0., 0., 0.,\n",
       "       0., 0., 0., 0., 0., 0., 0., 0., 0., 0., 0., 0., 0., 0., 0., 0., 0.,\n",
       "       0., 0., 0., 0., 0., 0., 0., 0., 0., 0., 0., 0., 0., 0., 0., 0., 0.,\n",
       "       0., 0., 0., 0., 0., 0., 0., 0., 0., 0., 0., 0., 0., 0., 0., 0., 0.,\n",
       "       0., 0., 0., 0., 0., 0., 0., 0., 0., 0., 0., 0., 0., 0., 0., 0., 0.,\n",
       "       0., 0., 0., 0., 0., 0., 0., 0., 0., 0., 0., 0., 0., 0., 0., 0., 0.,\n",
       "       0., 0., 0., 0., 0., 0., 0., 0., 0., 0., 0., 0., 0., 0., 0., 0., 0.,\n",
       "       0., 0., 0., 0., 0., 0., 0., 0., 0., 0., 0., 0.], dtype=float32)"
      ]
     },
     "execution_count": 20,
     "metadata": {},
     "output_type": "execute_result"
    }
   ],
   "source": [
    "y[1]"
   ]
  },
  {
   "cell_type": "code",
   "execution_count": 21,
   "metadata": {
    "id": "aeksIti2OliD"
   },
   "outputs": [],
   "source": [
    "# model building\n",
    "model = tf.keras.models.Sequential()\n",
    "model.add(tf.keras.layers.Embedding(num_classes, 80, input_length=max_length-1))\n",
    "model.add(tf.keras.layers.LSTM(100))\n",
    "model.add(tf.keras.layers.Dense(num_classes, activation='softmax'))"
   ]
  },
  {
   "cell_type": "code",
   "execution_count": 22,
   "metadata": {
    "colab": {
     "base_uri": "https://localhost:8080/"
    },
    "id": "JvF-M8F5OpUM",
    "outputId": "94962773-f5cc-4912-a3ab-9380c56171aa"
   },
   "outputs": [
    {
     "name": "stdout",
     "output_type": "stream",
     "text": [
      "Model: \"sequential\"\n",
      "_________________________________________________________________\n",
      " Layer (type)                Output Shape              Param #   \n",
      "=================================================================\n",
      " embedding (Embedding)       (None, 144, 80)           41760     \n",
      "                                                                 \n",
      " lstm (LSTM)                 (None, 100)               72400     \n",
      "                                                                 \n",
      " dense (Dense)               (None, 522)               52722     \n",
      "                                                                 \n",
      "=================================================================\n",
      "Total params: 166882 (651.88 KB)\n",
      "Trainable params: 166882 (651.88 KB)\n",
      "Non-trainable params: 0 (0.00 Byte)\n",
      "_________________________________________________________________\n"
     ]
    }
   ],
   "source": [
    "model.summary()"
   ]
  },
  {
   "cell_type": "code",
   "execution_count": 23,
   "metadata": {
    "id": "rBumTMHRO9Nf"
   },
   "outputs": [],
   "source": [
    "# compile the model\n",
    "model.compile(loss='categorical_crossentropy',\n",
    "              optimizer='adam',\n",
    "              metrics=['accuracy'])"
   ]
  },
  {
   "cell_type": "code",
   "execution_count": 24,
   "metadata": {
    "colab": {
     "base_uri": "https://localhost:8080/"
    },
    "id": "8_g7U5i9O_9P",
    "outputId": "146c1968-0206-46e2-f711-c744849984bc"
   },
   "outputs": [
    {
     "name": "stdout",
     "output_type": "stream",
     "text": [
      "Epoch 1/100\n",
      "36/36 [==============================] - 7s 135ms/step - loss: 6.0578 - accuracy: 0.0533\n",
      "Epoch 2/100\n",
      "36/36 [==============================] - 4s 105ms/step - loss: 5.6522 - accuracy: 0.0655\n",
      "Epoch 3/100\n",
      "36/36 [==============================] - 4s 107ms/step - loss: 5.5586 - accuracy: 0.0690\n",
      "Epoch 4/100\n",
      "36/36 [==============================] - 5s 139ms/step - loss: 5.5179 - accuracy: 0.0699\n",
      "Epoch 5/100\n",
      "36/36 [==============================] - 4s 105ms/step - loss: 5.4539 - accuracy: 0.0917\n",
      "Epoch 6/100\n",
      "36/36 [==============================] - 4s 104ms/step - loss: 5.3671 - accuracy: 0.0969\n",
      "Epoch 7/100\n",
      "36/36 [==============================] - 5s 133ms/step - loss: 5.2649 - accuracy: 0.0847\n",
      "Epoch 8/100\n",
      "36/36 [==============================] - 4s 109ms/step - loss: 5.1652 - accuracy: 0.1039\n",
      "Epoch 9/100\n",
      "36/36 [==============================] - 4s 105ms/step - loss: 5.0536 - accuracy: 0.1109\n",
      "Epoch 10/100\n",
      "36/36 [==============================] - 4s 123ms/step - loss: 4.9432 - accuracy: 0.1301\n",
      "Epoch 11/100\n",
      "36/36 [==============================] - 4s 120ms/step - loss: 4.8118 - accuracy: 0.1432\n",
      "Epoch 12/100\n",
      "36/36 [==============================] - 4s 104ms/step - loss: 4.6753 - accuracy: 0.1581\n",
      "Epoch 13/100\n",
      "36/36 [==============================] - 4s 110ms/step - loss: 4.5422 - accuracy: 0.1799\n",
      "Epoch 14/100\n",
      "36/36 [==============================] - 5s 131ms/step - loss: 4.4152 - accuracy: 0.1948\n",
      "Epoch 15/100\n",
      "36/36 [==============================] - 4s 104ms/step - loss: 4.2889 - accuracy: 0.2079\n",
      "Epoch 16/100\n",
      "36/36 [==============================] - 4s 106ms/step - loss: 4.1602 - accuracy: 0.2122\n",
      "Epoch 17/100\n",
      "36/36 [==============================] - 5s 139ms/step - loss: 4.0418 - accuracy: 0.2201\n",
      "Epoch 18/100\n",
      "36/36 [==============================] - 4s 104ms/step - loss: 3.9198 - accuracy: 0.2367\n",
      "Epoch 19/100\n",
      "36/36 [==============================] - 4s 105ms/step - loss: 3.7977 - accuracy: 0.2419\n",
      "Epoch 20/100\n",
      "36/36 [==============================] - 5s 138ms/step - loss: 3.6787 - accuracy: 0.2646\n",
      "Epoch 21/100\n",
      "36/36 [==============================] - 4s 105ms/step - loss: 3.5618 - accuracy: 0.2769\n",
      "Epoch 22/100\n",
      "36/36 [==============================] - 4s 104ms/step - loss: 3.4471 - accuracy: 0.2865\n",
      "Epoch 23/100\n",
      "36/36 [==============================] - 5s 134ms/step - loss: 3.3267 - accuracy: 0.3048\n",
      "Epoch 24/100\n",
      "36/36 [==============================] - 4s 109ms/step - loss: 3.2098 - accuracy: 0.3179\n",
      "Epoch 25/100\n",
      "36/36 [==============================] - 4s 104ms/step - loss: 3.0932 - accuracy: 0.3493\n",
      "Epoch 26/100\n",
      "36/36 [==============================] - 4s 119ms/step - loss: 2.9786 - accuracy: 0.3712\n",
      "Epoch 27/100\n",
      "36/36 [==============================] - 4s 122ms/step - loss: 2.8698 - accuracy: 0.3921\n",
      "Epoch 28/100\n",
      "36/36 [==============================] - 4s 106ms/step - loss: 2.7543 - accuracy: 0.4175\n",
      "Epoch 29/100\n",
      "36/36 [==============================] - 4s 106ms/step - loss: 2.6431 - accuracy: 0.4437\n",
      "Epoch 30/100\n",
      "36/36 [==============================] - 5s 136ms/step - loss: 2.5349 - accuracy: 0.4777\n",
      "Epoch 31/100\n",
      "36/36 [==============================] - 4s 104ms/step - loss: 2.4322 - accuracy: 0.5083\n",
      "Epoch 32/100\n",
      "36/36 [==============================] - 4s 105ms/step - loss: 2.3269 - accuracy: 0.5563\n",
      "Epoch 33/100\n",
      "36/36 [==============================] - 5s 138ms/step - loss: 2.2289 - accuracy: 0.5834\n",
      "Epoch 34/100\n",
      "36/36 [==============================] - 4s 105ms/step - loss: 2.1323 - accuracy: 0.6148\n",
      "Epoch 35/100\n",
      "36/36 [==============================] - 4s 105ms/step - loss: 2.0394 - accuracy: 0.6393\n",
      "Epoch 36/100\n",
      "36/36 [==============================] - 5s 139ms/step - loss: 1.9398 - accuracy: 0.6716\n",
      "Epoch 37/100\n",
      "36/36 [==============================] - 4s 104ms/step - loss: 1.8491 - accuracy: 0.7118\n",
      "Epoch 38/100\n",
      "36/36 [==============================] - 4s 106ms/step - loss: 1.7656 - accuracy: 0.7319\n",
      "Epoch 39/100\n",
      "36/36 [==============================] - 5s 132ms/step - loss: 1.6803 - accuracy: 0.7493\n",
      "Epoch 40/100\n",
      "36/36 [==============================] - 4s 109ms/step - loss: 1.5950 - accuracy: 0.7799\n",
      "Epoch 41/100\n",
      "36/36 [==============================] - 4s 106ms/step - loss: 1.5202 - accuracy: 0.8052\n",
      "Epoch 42/100\n",
      "36/36 [==============================] - 4s 120ms/step - loss: 1.4520 - accuracy: 0.8175\n",
      "Epoch 43/100\n",
      "36/36 [==============================] - 4s 123ms/step - loss: 1.3693 - accuracy: 0.8349\n",
      "Epoch 44/100\n",
      "36/36 [==============================] - 4s 105ms/step - loss: 1.3041 - accuracy: 0.8480\n",
      "Epoch 45/100\n",
      "36/36 [==============================] - 4s 108ms/step - loss: 1.2376 - accuracy: 0.8664\n",
      "Epoch 46/100\n",
      "36/36 [==============================] - 5s 132ms/step - loss: 1.1721 - accuracy: 0.8777\n",
      "Epoch 47/100\n",
      "36/36 [==============================] - 4s 105ms/step - loss: 1.1151 - accuracy: 0.8821\n",
      "Epoch 48/100\n",
      "36/36 [==============================] - 4s 104ms/step - loss: 1.0585 - accuracy: 0.8996\n",
      "Epoch 49/100\n",
      "36/36 [==============================] - 5s 139ms/step - loss: 1.0037 - accuracy: 0.9083\n",
      "Epoch 50/100\n",
      "36/36 [==============================] - 4s 105ms/step - loss: 0.9589 - accuracy: 0.9092\n",
      "Epoch 51/100\n",
      "36/36 [==============================] - 4s 105ms/step - loss: 0.9035 - accuracy: 0.9293\n",
      "Epoch 52/100\n",
      "36/36 [==============================] - 5s 141ms/step - loss: 0.8585 - accuracy: 0.9275\n",
      "Epoch 53/100\n",
      "36/36 [==============================] - 4s 104ms/step - loss: 0.8179 - accuracy: 0.9397\n",
      "Epoch 54/100\n",
      "36/36 [==============================] - 4s 106ms/step - loss: 0.7702 - accuracy: 0.9459\n",
      "Epoch 55/100\n",
      "36/36 [==============================] - 5s 134ms/step - loss: 0.7339 - accuracy: 0.9485\n",
      "Epoch 56/100\n",
      "36/36 [==============================] - 4s 106ms/step - loss: 0.6967 - accuracy: 0.9590\n",
      "Epoch 57/100\n",
      "36/36 [==============================] - 4s 105ms/step - loss: 0.6610 - accuracy: 0.9607\n",
      "Epoch 58/100\n",
      "36/36 [==============================] - 4s 121ms/step - loss: 0.6288 - accuracy: 0.9642\n",
      "Epoch 59/100\n",
      "36/36 [==============================] - 4s 119ms/step - loss: 0.5997 - accuracy: 0.9642\n",
      "Epoch 60/100\n",
      "36/36 [==============================] - 4s 106ms/step - loss: 0.5691 - accuracy: 0.9668\n",
      "Epoch 61/100\n",
      "36/36 [==============================] - 4s 110ms/step - loss: 0.5420 - accuracy: 0.9721\n",
      "Epoch 62/100\n",
      "36/36 [==============================] - 5s 132ms/step - loss: 0.5143 - accuracy: 0.9755\n",
      "Epoch 63/100\n",
      "36/36 [==============================] - 4s 104ms/step - loss: 0.4914 - accuracy: 0.9729\n",
      "Epoch 64/100\n",
      "36/36 [==============================] - 4s 105ms/step - loss: 0.4674 - accuracy: 0.9782\n",
      "Epoch 65/100\n",
      "36/36 [==============================] - 5s 138ms/step - loss: 0.4461 - accuracy: 0.9782\n",
      "Epoch 66/100\n",
      "36/36 [==============================] - 4s 105ms/step - loss: 0.4255 - accuracy: 0.9790\n",
      "Epoch 67/100\n",
      "36/36 [==============================] - 4s 106ms/step - loss: 0.4052 - accuracy: 0.9825\n",
      "Epoch 68/100\n",
      "36/36 [==============================] - 5s 137ms/step - loss: 0.3870 - accuracy: 0.9817\n",
      "Epoch 69/100\n",
      "36/36 [==============================] - 4s 105ms/step - loss: 0.3700 - accuracy: 0.9825\n",
      "Epoch 70/100\n",
      "36/36 [==============================] - 4s 104ms/step - loss: 0.3525 - accuracy: 0.9852\n",
      "Epoch 71/100\n",
      "36/36 [==============================] - 5s 134ms/step - loss: 0.3373 - accuracy: 0.9869\n",
      "Epoch 72/100\n",
      "36/36 [==============================] - 4s 108ms/step - loss: 0.3229 - accuracy: 0.9878\n",
      "Epoch 73/100\n",
      "36/36 [==============================] - 4s 105ms/step - loss: 0.3088 - accuracy: 0.9886\n",
      "Epoch 74/100\n",
      "36/36 [==============================] - 4s 122ms/step - loss: 0.2954 - accuracy: 0.9869\n",
      "Epoch 75/100\n",
      "36/36 [==============================] - 4s 120ms/step - loss: 0.2832 - accuracy: 0.9886\n",
      "Epoch 76/100\n",
      "36/36 [==============================] - 4s 106ms/step - loss: 0.2720 - accuracy: 0.9869\n",
      "Epoch 77/100\n",
      "36/36 [==============================] - 4s 111ms/step - loss: 0.2607 - accuracy: 0.9886\n",
      "Epoch 78/100\n",
      "36/36 [==============================] - 5s 133ms/step - loss: 0.2501 - accuracy: 0.9895\n",
      "Epoch 79/100\n",
      "36/36 [==============================] - 4s 106ms/step - loss: 0.2396 - accuracy: 0.9904\n",
      "Epoch 80/100\n",
      "36/36 [==============================] - 4s 105ms/step - loss: 0.2304 - accuracy: 0.9913\n",
      "Epoch 81/100\n",
      "36/36 [==============================] - 5s 140ms/step - loss: 0.2209 - accuracy: 0.9886\n",
      "Epoch 82/100\n",
      "36/36 [==============================] - 4s 105ms/step - loss: 0.2129 - accuracy: 0.9913\n",
      "Epoch 83/100\n",
      "36/36 [==============================] - 4s 106ms/step - loss: 0.2039 - accuracy: 0.9913\n",
      "Epoch 84/100\n",
      "36/36 [==============================] - 5s 138ms/step - loss: 0.1966 - accuracy: 0.9895\n",
      "Epoch 85/100\n",
      "36/36 [==============================] - 4s 106ms/step - loss: 0.1888 - accuracy: 0.9913\n",
      "Epoch 86/100\n",
      "36/36 [==============================] - 4s 105ms/step - loss: 0.1825 - accuracy: 0.9913\n",
      "Epoch 87/100\n",
      "36/36 [==============================] - 5s 135ms/step - loss: 0.1760 - accuracy: 0.9913\n",
      "Epoch 88/100\n",
      "36/36 [==============================] - 4s 105ms/step - loss: 0.1694 - accuracy: 0.9913\n",
      "Epoch 89/100\n",
      "36/36 [==============================] - 4s 106ms/step - loss: 0.1633 - accuracy: 0.9921\n",
      "Epoch 90/100\n",
      "36/36 [==============================] - 6s 157ms/step - loss: 0.1570 - accuracy: 0.9904\n",
      "Epoch 91/100\n",
      "36/36 [==============================] - 4s 107ms/step - loss: 0.1521 - accuracy: 0.9904\n",
      "Epoch 92/100\n",
      "36/36 [==============================] - 4s 105ms/step - loss: 0.1465 - accuracy: 0.9921\n",
      "Epoch 93/100\n",
      "36/36 [==============================] - 5s 129ms/step - loss: 0.1417 - accuracy: 0.9913\n",
      "Epoch 94/100\n",
      "36/36 [==============================] - 4s 114ms/step - loss: 0.1371 - accuracy: 0.9913\n",
      "Epoch 95/100\n",
      "36/36 [==============================] - 4s 105ms/step - loss: 0.1322 - accuracy: 0.9921\n",
      "Epoch 96/100\n",
      "36/36 [==============================] - 4s 117ms/step - loss: 0.1282 - accuracy: 0.9904\n",
      "Epoch 97/100\n",
      "36/36 [==============================] - 4s 123ms/step - loss: 0.1238 - accuracy: 0.9921\n",
      "Epoch 98/100\n",
      "36/36 [==============================] - 4s 104ms/step - loss: 0.1210 - accuracy: 0.9921\n",
      "Epoch 99/100\n",
      "36/36 [==============================] - 4s 109ms/step - loss: 0.1169 - accuracy: 0.9904\n",
      "Epoch 100/100\n",
      "36/36 [==============================] - 5s 132ms/step - loss: 0.1129 - accuracy: 0.9930\n"
     ]
    }
   ],
   "source": [
    "# model training\n",
    "history = model.fit(X, y, epochs=100)"
   ]
  },
  {
   "cell_type": "code",
   "execution_count": 27,
   "metadata": {
    "colab": {
     "base_uri": "https://localhost:8080/"
    },
    "id": "vr4NvSJnRRCH",
    "outputId": "f66883b8-a7a1-4c8d-fa59-40987a5b3934"
   },
   "outputs": [
    {
     "name": "stdout",
     "output_type": "stream",
     "text": [
      "1/1 [==============================] - 0s 36ms/step\n",
      "1/1 [==============================] - 0s 47ms/step\n",
      "1/1 [==============================] - 0s 43ms/step\n",
      "1/1 [==============================] - 0s 36ms/step\n",
      "1/1 [==============================] - 0s 35ms/step\n",
      "1/1 [==============================] - 0s 38ms/step\n",
      "1/1 [==============================] - 0s 41ms/step\n",
      "1/1 [==============================] - 0s 39ms/step\n",
      "1/1 [==============================] - 0s 39ms/step\n",
      "1/1 [==============================] - 0s 54ms/step\n",
      "Sri Lanka is a country of immense beauty rich history and cultural diversity its\n"
     ]
    }
   ],
   "source": [
    "input_text = \"Sri Lanka is a\"\n",
    "for i in range(10):\n",
    "    token_list = tokenizer.texts_to_sequences([input_text])[0]\n",
    "    token_list = tf.keras.preprocessing.sequence.pad_sequences([token_list], maxlen=max_length-1, padding='pre')\n",
    "    predicted = np.argmax(model.predict(token_list), axis=-1)\n",
    "    output_word = \"\"\n",
    "    for word, index in tokenizer.word_index.items():\n",
    "        if index == predicted:\n",
    "            output_word = word\n",
    "            break\n",
    "    input_text += \" \" + output_word\n",
    "\n",
    "print(input_text)"
   ]
  }
 ],
 "metadata": {
  "colab": {
   "provenance": []
  },
  "kernelspec": {
   "display_name": "pytorch_env",
   "language": "python",
   "name": "pytorch_env"
  },
  "language_info": {
   "codemirror_mode": {
    "name": "ipython",
    "version": 3
   },
   "file_extension": ".py",
   "mimetype": "text/x-python",
   "name": "python",
   "nbconvert_exporter": "python",
   "pygments_lexer": "ipython3",
   "version": "3.8.5"
  }
 },
 "nbformat": 4,
 "nbformat_minor": 1
}
